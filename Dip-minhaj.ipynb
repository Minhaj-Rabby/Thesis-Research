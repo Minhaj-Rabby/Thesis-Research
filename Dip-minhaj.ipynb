{
 "cells": [
  {
   "cell_type": "code",
   "execution_count": 1,
   "id": "01b07f59",
   "metadata": {},
   "outputs": [
    {
     "data": {
      "text/html": [
       "<div>\n",
       "<style scoped>\n",
       "    .dataframe tbody tr th:only-of-type {\n",
       "        vertical-align: middle;\n",
       "    }\n",
       "\n",
       "    .dataframe tbody tr th {\n",
       "        vertical-align: top;\n",
       "    }\n",
       "\n",
       "    .dataframe thead th {\n",
       "        text-align: right;\n",
       "    }\n",
       "</style>\n",
       "<table border=\"1\" class=\"dataframe\">\n",
       "  <thead>\n",
       "    <tr style=\"text-align: right;\">\n",
       "      <th></th>\n",
       "      <th>HeartDisease</th>\n",
       "      <th>BMI</th>\n",
       "      <th>Smoking</th>\n",
       "      <th>AlcoholDrinking</th>\n",
       "      <th>Stroke</th>\n",
       "      <th>PhysicalHealth</th>\n",
       "      <th>MentalHealth</th>\n",
       "      <th>DiffWalking</th>\n",
       "      <th>Sex</th>\n",
       "      <th>AgeCategory</th>\n",
       "      <th>Race</th>\n",
       "      <th>Diabetic</th>\n",
       "      <th>PhysicalActivity</th>\n",
       "      <th>GenHealth</th>\n",
       "      <th>SleepTime</th>\n",
       "      <th>Asthma</th>\n",
       "      <th>KidneyDisease</th>\n",
       "      <th>SkinCancer</th>\n",
       "    </tr>\n",
       "  </thead>\n",
       "  <tbody>\n",
       "    <tr>\n",
       "      <th>0</th>\n",
       "      <td>No</td>\n",
       "      <td>16.60</td>\n",
       "      <td>Yes</td>\n",
       "      <td>No</td>\n",
       "      <td>No</td>\n",
       "      <td>3</td>\n",
       "      <td>30</td>\n",
       "      <td>No</td>\n",
       "      <td>Female</td>\n",
       "      <td>55-59</td>\n",
       "      <td>White</td>\n",
       "      <td>Yes</td>\n",
       "      <td>Yes</td>\n",
       "      <td>Very good</td>\n",
       "      <td>5</td>\n",
       "      <td>Yes</td>\n",
       "      <td>No</td>\n",
       "      <td>Yes</td>\n",
       "    </tr>\n",
       "    <tr>\n",
       "      <th>1</th>\n",
       "      <td>No</td>\n",
       "      <td>20.34</td>\n",
       "      <td>No</td>\n",
       "      <td>No</td>\n",
       "      <td>Yes</td>\n",
       "      <td>0</td>\n",
       "      <td>0</td>\n",
       "      <td>No</td>\n",
       "      <td>Female</td>\n",
       "      <td>80 or older</td>\n",
       "      <td>White</td>\n",
       "      <td>No</td>\n",
       "      <td>Yes</td>\n",
       "      <td>Very good</td>\n",
       "      <td>7</td>\n",
       "      <td>No</td>\n",
       "      <td>No</td>\n",
       "      <td>No</td>\n",
       "    </tr>\n",
       "    <tr>\n",
       "      <th>2</th>\n",
       "      <td>No</td>\n",
       "      <td>26.58</td>\n",
       "      <td>Yes</td>\n",
       "      <td>No</td>\n",
       "      <td>No</td>\n",
       "      <td>20</td>\n",
       "      <td>30</td>\n",
       "      <td>No</td>\n",
       "      <td>Male</td>\n",
       "      <td>65-69</td>\n",
       "      <td>White</td>\n",
       "      <td>Yes</td>\n",
       "      <td>Yes</td>\n",
       "      <td>Fair</td>\n",
       "      <td>8</td>\n",
       "      <td>Yes</td>\n",
       "      <td>No</td>\n",
       "      <td>No</td>\n",
       "    </tr>\n",
       "    <tr>\n",
       "      <th>3</th>\n",
       "      <td>No</td>\n",
       "      <td>24.21</td>\n",
       "      <td>No</td>\n",
       "      <td>No</td>\n",
       "      <td>No</td>\n",
       "      <td>0</td>\n",
       "      <td>0</td>\n",
       "      <td>No</td>\n",
       "      <td>Female</td>\n",
       "      <td>75-79</td>\n",
       "      <td>White</td>\n",
       "      <td>No</td>\n",
       "      <td>No</td>\n",
       "      <td>Good</td>\n",
       "      <td>6</td>\n",
       "      <td>No</td>\n",
       "      <td>No</td>\n",
       "      <td>Yes</td>\n",
       "    </tr>\n",
       "    <tr>\n",
       "      <th>4</th>\n",
       "      <td>No</td>\n",
       "      <td>23.71</td>\n",
       "      <td>No</td>\n",
       "      <td>No</td>\n",
       "      <td>No</td>\n",
       "      <td>28</td>\n",
       "      <td>0</td>\n",
       "      <td>Yes</td>\n",
       "      <td>Female</td>\n",
       "      <td>40-44</td>\n",
       "      <td>White</td>\n",
       "      <td>No</td>\n",
       "      <td>Yes</td>\n",
       "      <td>Very good</td>\n",
       "      <td>8</td>\n",
       "      <td>No</td>\n",
       "      <td>No</td>\n",
       "      <td>No</td>\n",
       "    </tr>\n",
       "  </tbody>\n",
       "</table>\n",
       "</div>"
      ],
      "text/plain": [
       "  HeartDisease    BMI Smoking AlcoholDrinking Stroke  PhysicalHealth  \\\n",
       "0           No  16.60     Yes              No     No               3   \n",
       "1           No  20.34      No              No    Yes               0   \n",
       "2           No  26.58     Yes              No     No              20   \n",
       "3           No  24.21      No              No     No               0   \n",
       "4           No  23.71      No              No     No              28   \n",
       "\n",
       "   MentalHealth DiffWalking     Sex  AgeCategory   Race Diabetic  \\\n",
       "0            30          No  Female        55-59  White      Yes   \n",
       "1             0          No  Female  80 or older  White       No   \n",
       "2            30          No    Male        65-69  White      Yes   \n",
       "3             0          No  Female        75-79  White       No   \n",
       "4             0         Yes  Female        40-44  White       No   \n",
       "\n",
       "  PhysicalActivity  GenHealth  SleepTime Asthma KidneyDisease SkinCancer  \n",
       "0              Yes  Very good          5    Yes            No        Yes  \n",
       "1              Yes  Very good          7     No            No         No  \n",
       "2              Yes       Fair          8    Yes            No         No  \n",
       "3               No       Good          6     No            No        Yes  \n",
       "4              Yes  Very good          8     No            No         No  "
      ]
     },
     "execution_count": 1,
     "metadata": {},
     "output_type": "execute_result"
    }
   ],
   "source": [
    "import numpy as np\n",
    "import pandas as pd\n",
    "import matplotlib.pyplot as plt\n",
    "import seaborn as sns\n",
    "import warnings\n",
    "warnings.filterwarnings('ignore')\n",
    "data = pd.read_csv('input/heart.csv')\n",
    "data.head(5)"
   ]
  },
  {
   "cell_type": "code",
   "execution_count": 2,
   "id": "6019ab3a",
   "metadata": {},
   "outputs": [
    {
     "data": {
      "text/plain": [
       "HeartDisease        0\n",
       "BMI                 0\n",
       "Smoking             0\n",
       "AlcoholDrinking     0\n",
       "Stroke              0\n",
       "PhysicalHealth      0\n",
       "MentalHealth        0\n",
       "DiffWalking         0\n",
       "Sex                 0\n",
       "AgeCategory         0\n",
       "Race                0\n",
       "Diabetic            0\n",
       "PhysicalActivity    0\n",
       "GenHealth           0\n",
       "SleepTime           0\n",
       "Asthma              0\n",
       "KidneyDisease       0\n",
       "SkinCancer          0\n",
       "dtype: int64"
      ]
     },
     "execution_count": 2,
     "metadata": {},
     "output_type": "execute_result"
    }
   ],
   "source": [
    "data.isnull().sum()"
   ]
  },
  {
   "cell_type": "code",
   "execution_count": 3,
   "id": "3744e2b5",
   "metadata": {},
   "outputs": [],
   "source": [
    "data.Smoking.replace(('Yes','No'), (1,0), inplace = True)\n",
    "data.HeartDisease.replace(('Yes','No'), (1,0), inplace = True)\n",
    "data.AlcoholDrinking.replace(('Yes','No'), (1,0), inplace = True)\n",
    "data.Stroke.replace(('Yes','No'), (1,0), inplace = True)\n",
    "data.Sex.replace(('Male','Female'), (1,0), inplace = True)\n",
    "data.Diabetic.replace(('Yes','No','No, borderline diabetes','Yes (during pregnancy)'), (1,0,0,0), inplace = True)\n",
    "data.PhysicalActivity.replace(('Yes','No'), (1,0), inplace = True)\n",
    "data.AgeCategory.replace(('18-24','25-29','30-34','35-39','40-44','45-49','50-54',\n",
    "                          '55-59','60-64','65-69','70-74','75-79','80 or older'),\n",
    "                         (0,0,0,0,0,1,1,1,1,1,1,1,1), inplace = True)\n",
    "data.GenHealth.replace(('Excellent', 'Very good', 'Good', 'Fair', 'Poor'), (5,4,3,2,1), inplace = True)\n",
    "data.DiffWalking.replace(('Yes','No'), (1,0), inplace =True)\n",
    "data.Asthma.replace(('Yes','No'), (1,0), inplace =True)\n",
    "data.KidneyDisease.replace(('Yes','No'), (1,0), inplace =True)\n",
    "data.SkinCancer.replace(('Yes','No'), (1,0), inplace =True)"
   ]
  },
  {
   "cell_type": "code",
   "execution_count": 4,
   "id": "b18c4d04",
   "metadata": {},
   "outputs": [
    {
     "data": {
      "text/html": [
       "<div>\n",
       "<style scoped>\n",
       "    .dataframe tbody tr th:only-of-type {\n",
       "        vertical-align: middle;\n",
       "    }\n",
       "\n",
       "    .dataframe tbody tr th {\n",
       "        vertical-align: top;\n",
       "    }\n",
       "\n",
       "    .dataframe thead th {\n",
       "        text-align: right;\n",
       "    }\n",
       "</style>\n",
       "<table border=\"1\" class=\"dataframe\">\n",
       "  <thead>\n",
       "    <tr style=\"text-align: right;\">\n",
       "      <th></th>\n",
       "      <th>HeartDisease</th>\n",
       "      <th>BMI</th>\n",
       "      <th>Smoking</th>\n",
       "      <th>AlcoholDrinking</th>\n",
       "      <th>Stroke</th>\n",
       "      <th>PhysicalHealth</th>\n",
       "      <th>MentalHealth</th>\n",
       "      <th>DiffWalking</th>\n",
       "      <th>Sex</th>\n",
       "      <th>AgeCategory</th>\n",
       "      <th>Race</th>\n",
       "      <th>Diabetic</th>\n",
       "      <th>PhysicalActivity</th>\n",
       "      <th>GenHealth</th>\n",
       "      <th>SleepTime</th>\n",
       "      <th>Asthma</th>\n",
       "      <th>KidneyDisease</th>\n",
       "      <th>SkinCancer</th>\n",
       "    </tr>\n",
       "  </thead>\n",
       "  <tbody>\n",
       "    <tr>\n",
       "      <th>0</th>\n",
       "      <td>0</td>\n",
       "      <td>16.60</td>\n",
       "      <td>1</td>\n",
       "      <td>0</td>\n",
       "      <td>0</td>\n",
       "      <td>3</td>\n",
       "      <td>30</td>\n",
       "      <td>0</td>\n",
       "      <td>0</td>\n",
       "      <td>1</td>\n",
       "      <td>White</td>\n",
       "      <td>1</td>\n",
       "      <td>1</td>\n",
       "      <td>4</td>\n",
       "      <td>5</td>\n",
       "      <td>1</td>\n",
       "      <td>0</td>\n",
       "      <td>1</td>\n",
       "    </tr>\n",
       "    <tr>\n",
       "      <th>1</th>\n",
       "      <td>0</td>\n",
       "      <td>20.34</td>\n",
       "      <td>0</td>\n",
       "      <td>0</td>\n",
       "      <td>1</td>\n",
       "      <td>0</td>\n",
       "      <td>0</td>\n",
       "      <td>0</td>\n",
       "      <td>0</td>\n",
       "      <td>1</td>\n",
       "      <td>White</td>\n",
       "      <td>0</td>\n",
       "      <td>1</td>\n",
       "      <td>4</td>\n",
       "      <td>7</td>\n",
       "      <td>0</td>\n",
       "      <td>0</td>\n",
       "      <td>0</td>\n",
       "    </tr>\n",
       "    <tr>\n",
       "      <th>2</th>\n",
       "      <td>0</td>\n",
       "      <td>26.58</td>\n",
       "      <td>1</td>\n",
       "      <td>0</td>\n",
       "      <td>0</td>\n",
       "      <td>20</td>\n",
       "      <td>30</td>\n",
       "      <td>0</td>\n",
       "      <td>1</td>\n",
       "      <td>1</td>\n",
       "      <td>White</td>\n",
       "      <td>1</td>\n",
       "      <td>1</td>\n",
       "      <td>2</td>\n",
       "      <td>8</td>\n",
       "      <td>1</td>\n",
       "      <td>0</td>\n",
       "      <td>0</td>\n",
       "    </tr>\n",
       "    <tr>\n",
       "      <th>3</th>\n",
       "      <td>0</td>\n",
       "      <td>24.21</td>\n",
       "      <td>0</td>\n",
       "      <td>0</td>\n",
       "      <td>0</td>\n",
       "      <td>0</td>\n",
       "      <td>0</td>\n",
       "      <td>0</td>\n",
       "      <td>0</td>\n",
       "      <td>1</td>\n",
       "      <td>White</td>\n",
       "      <td>0</td>\n",
       "      <td>0</td>\n",
       "      <td>3</td>\n",
       "      <td>6</td>\n",
       "      <td>0</td>\n",
       "      <td>0</td>\n",
       "      <td>1</td>\n",
       "    </tr>\n",
       "    <tr>\n",
       "      <th>4</th>\n",
       "      <td>0</td>\n",
       "      <td>23.71</td>\n",
       "      <td>0</td>\n",
       "      <td>0</td>\n",
       "      <td>0</td>\n",
       "      <td>28</td>\n",
       "      <td>0</td>\n",
       "      <td>1</td>\n",
       "      <td>0</td>\n",
       "      <td>0</td>\n",
       "      <td>White</td>\n",
       "      <td>0</td>\n",
       "      <td>1</td>\n",
       "      <td>4</td>\n",
       "      <td>8</td>\n",
       "      <td>0</td>\n",
       "      <td>0</td>\n",
       "      <td>0</td>\n",
       "    </tr>\n",
       "  </tbody>\n",
       "</table>\n",
       "</div>"
      ],
      "text/plain": [
       "   HeartDisease    BMI  Smoking  AlcoholDrinking  Stroke  PhysicalHealth  \\\n",
       "0             0  16.60        1                0       0               3   \n",
       "1             0  20.34        0                0       1               0   \n",
       "2             0  26.58        1                0       0              20   \n",
       "3             0  24.21        0                0       0               0   \n",
       "4             0  23.71        0                0       0              28   \n",
       "\n",
       "   MentalHealth  DiffWalking  Sex  AgeCategory   Race  Diabetic  \\\n",
       "0            30            0    0            1  White         1   \n",
       "1             0            0    0            1  White         0   \n",
       "2            30            0    1            1  White         1   \n",
       "3             0            0    0            1  White         0   \n",
       "4             0            1    0            0  White         0   \n",
       "\n",
       "   PhysicalActivity  GenHealth  SleepTime  Asthma  KidneyDisease  SkinCancer  \n",
       "0                 1          4          5       1              0           1  \n",
       "1                 1          4          7       0              0           0  \n",
       "2                 1          2          8       1              0           0  \n",
       "3                 0          3          6       0              0           1  \n",
       "4                 1          4          8       0              0           0  "
      ]
     },
     "execution_count": 4,
     "metadata": {},
     "output_type": "execute_result"
    }
   ],
   "source": [
    "data.head()"
   ]
  },
  {
   "cell_type": "code",
   "execution_count": 5,
   "id": "8b8114f5",
   "metadata": {},
   "outputs": [
    {
     "data": {
      "text/plain": [
       "0    292422\n",
       "1     27373\n",
       "Name: HeartDisease, dtype: int64"
      ]
     },
     "execution_count": 5,
     "metadata": {},
     "output_type": "execute_result"
    }
   ],
   "source": [
    "data.HeartDisease.value_counts()"
   ]
  },
  {
   "cell_type": "code",
   "execution_count": 6,
   "id": "7c1b055d",
   "metadata": {},
   "outputs": [],
   "source": [
    "X = data.drop(['HeartDisease','Race'], axis = 1)\n",
    "Y = data.HeartDisease"
   ]
  },
  {
   "cell_type": "code",
   "execution_count": null,
   "id": "363e529b",
   "metadata": {},
   "outputs": [],
   "source": [
    "from imblearn.over_sampling import SMOTE\n",
    "sm = SMOTE(random_state = 0)\n",
    "sm.fit(X,Y)\n",
    "x_resem, y_resem = sm.fit_resample(X, Y)"
   ]
  },
  {
   "cell_type": "code",
   "execution_count": 8,
   "id": "58b217e6",
   "metadata": {},
   "outputs": [
    {
     "data": {
      "text/plain": [
       "0    292422\n",
       "1    292422\n",
       "Name: HeartDisease, dtype: int64"
      ]
     },
     "execution_count": 8,
     "metadata": {},
     "output_type": "execute_result"
    }
   ],
   "source": [
    "y_resem.value_counts()"
   ]
  },
  {
   "cell_type": "code",
   "execution_count": 9,
   "id": "60cb1dd4",
   "metadata": {},
   "outputs": [],
   "source": [
    "from sklearn.model_selection import train_test_split\n",
    "xtrain,xtest,ytrain,ytest = train_test_split(x_resem, y_resem, test_size = 0.2, random_state = 0)"
   ]
  },
  {
   "cell_type": "code",
   "execution_count": 10,
   "id": "36f21ce3",
   "metadata": {},
   "outputs": [],
   "source": [
    "from sklearn.linear_model import LogisticRegression\n",
    "from sklearn.ensemble import BaggingClassifier, RandomForestClassifier\n",
    "from sklearn.tree import DecisionTreeClassifier\n",
    "from sklearn.metrics import confusion_matrix, accuracy_score, precision_score, f1_score, recall_score"
   ]
  },
  {
   "cell_type": "code",
   "execution_count": 11,
   "id": "3909f5a7",
   "metadata": {},
   "outputs": [
    {
     "data": {
      "text/plain": [
       "467875"
      ]
     },
     "execution_count": 11,
     "metadata": {},
     "output_type": "execute_result"
    }
   ],
   "source": [
    "max_features = int(x_resem.shape[0] * 0.8)\n",
    "max_features"
   ]
  },
  {
   "cell_type": "code",
   "execution_count": 12,
   "id": "23c13a9f",
   "metadata": {},
   "outputs": [
    {
     "data": {
      "text/plain": [
       "0.735824739513759"
      ]
     },
     "execution_count": 12,
     "metadata": {},
     "output_type": "execute_result"
    }
   ],
   "source": [
    "bag_clf = BaggingClassifier(LogisticRegression(), n_estimators = 50, \n",
    "                            max_samples = max_features, bootstrap = True, \n",
    "                            n_jobs = -1, oob_score = True)\n",
    "bag_clf.fit(xtrain, ytrain)\n",
    "bag_clf.oob_score_"
   ]
  },
  {
   "cell_type": "code",
   "execution_count": 13,
   "id": "8a9ecb1a",
   "metadata": {},
   "outputs": [
    {
     "name": "stdout",
     "output_type": "stream",
     "text": [
      "Logistic Regression : Accuracy Score :  0.7345279518504902\n",
      "Logistic Regression : Precision Score :  0.7287161374162807\n",
      "Logistic Regression : Recall Score :  0.7475729814726191\n",
      "Logistic Regression : F1 Score :  0.7380241289125116\n"
     ]
    }
   ],
   "source": [
    "lrpred = bag_clf.predict(xtest)\n",
    "print(\"Logistic Regression : Accuracy Score : \", accuracy_score(ytest, lrpred))\n",
    "print(\"Logistic Regression : Precision Score : \", precision_score(ytest, lrpred))\n",
    "print(\"Logistic Regression : Recall Score : \", recall_score(ytest, lrpred))\n",
    "print(\"Logistic Regression : F1 Score : \", f1_score(ytest, lrpred))"
   ]
  },
  {
   "cell_type": "code",
   "execution_count": 14,
   "id": "7d9401f9",
   "metadata": {},
   "outputs": [],
   "source": [
    "from sklearn.metrics import confusion_matrix"
   ]
  },
  {
   "cell_type": "code",
   "execution_count": 15,
   "id": "221be18c",
   "metadata": {},
   "outputs": [
    {
     "data": {
      "text/plain": [
       "array([[42178, 16283],\n",
       "       [14769, 43739]], dtype=int64)"
      ]
     },
     "execution_count": 15,
     "metadata": {},
     "output_type": "execute_result"
    }
   ],
   "source": [
    "confusion_matrix(ytest, lrpred)"
   ]
  },
  {
   "cell_type": "code",
   "execution_count": 16,
   "id": "2f5e41f3",
   "metadata": {},
   "outputs": [
    {
     "data": {
      "text/plain": [
       "array([[42178, 16283],\n",
       "       [14769, 43739]], dtype=int64)"
      ]
     },
     "execution_count": 16,
     "metadata": {},
     "output_type": "execute_result"
    }
   ],
   "source": [
    "cm_rf_generated=confusion_matrix(ytest, lrpred)\n",
    "cm_rf_generated"
   ]
  },
  {
   "cell_type": "code",
   "execution_count": null,
   "id": "208d06cd",
   "metadata": {},
   "outputs": [],
   "source": []
  },
  {
   "cell_type": "code",
   "execution_count": 17,
   "id": "dd65750e",
   "metadata": {},
   "outputs": [
    {
     "data": {
      "text/html": [
       "<style>#sk-container-id-1 {color: black;background-color: white;}#sk-container-id-1 pre{padding: 0;}#sk-container-id-1 div.sk-toggleable {background-color: white;}#sk-container-id-1 label.sk-toggleable__label {cursor: pointer;display: block;width: 100%;margin-bottom: 0;padding: 0.3em;box-sizing: border-box;text-align: center;}#sk-container-id-1 label.sk-toggleable__label-arrow:before {content: \"▸\";float: left;margin-right: 0.25em;color: #696969;}#sk-container-id-1 label.sk-toggleable__label-arrow:hover:before {color: black;}#sk-container-id-1 div.sk-estimator:hover label.sk-toggleable__label-arrow:before {color: black;}#sk-container-id-1 div.sk-toggleable__content {max-height: 0;max-width: 0;overflow: hidden;text-align: left;background-color: #f0f8ff;}#sk-container-id-1 div.sk-toggleable__content pre {margin: 0.2em;color: black;border-radius: 0.25em;background-color: #f0f8ff;}#sk-container-id-1 input.sk-toggleable__control:checked~div.sk-toggleable__content {max-height: 200px;max-width: 100%;overflow: auto;}#sk-container-id-1 input.sk-toggleable__control:checked~label.sk-toggleable__label-arrow:before {content: \"▾\";}#sk-container-id-1 div.sk-estimator input.sk-toggleable__control:checked~label.sk-toggleable__label {background-color: #d4ebff;}#sk-container-id-1 div.sk-label input.sk-toggleable__control:checked~label.sk-toggleable__label {background-color: #d4ebff;}#sk-container-id-1 input.sk-hidden--visually {border: 0;clip: rect(1px 1px 1px 1px);clip: rect(1px, 1px, 1px, 1px);height: 1px;margin: -1px;overflow: hidden;padding: 0;position: absolute;width: 1px;}#sk-container-id-1 div.sk-estimator {font-family: monospace;background-color: #f0f8ff;border: 1px dotted black;border-radius: 0.25em;box-sizing: border-box;margin-bottom: 0.5em;}#sk-container-id-1 div.sk-estimator:hover {background-color: #d4ebff;}#sk-container-id-1 div.sk-parallel-item::after {content: \"\";width: 100%;border-bottom: 1px solid gray;flex-grow: 1;}#sk-container-id-1 div.sk-label:hover label.sk-toggleable__label {background-color: #d4ebff;}#sk-container-id-1 div.sk-serial::before {content: \"\";position: absolute;border-left: 1px solid gray;box-sizing: border-box;top: 0;bottom: 0;left: 50%;z-index: 0;}#sk-container-id-1 div.sk-serial {display: flex;flex-direction: column;align-items: center;background-color: white;padding-right: 0.2em;padding-left: 0.2em;position: relative;}#sk-container-id-1 div.sk-item {position: relative;z-index: 1;}#sk-container-id-1 div.sk-parallel {display: flex;align-items: stretch;justify-content: center;background-color: white;position: relative;}#sk-container-id-1 div.sk-item::before, #sk-container-id-1 div.sk-parallel-item::before {content: \"\";position: absolute;border-left: 1px solid gray;box-sizing: border-box;top: 0;bottom: 0;left: 50%;z-index: -1;}#sk-container-id-1 div.sk-parallel-item {display: flex;flex-direction: column;z-index: 1;position: relative;background-color: white;}#sk-container-id-1 div.sk-parallel-item:first-child::after {align-self: flex-end;width: 50%;}#sk-container-id-1 div.sk-parallel-item:last-child::after {align-self: flex-start;width: 50%;}#sk-container-id-1 div.sk-parallel-item:only-child::after {width: 0;}#sk-container-id-1 div.sk-dashed-wrapped {border: 1px dashed gray;margin: 0 0.4em 0.5em 0.4em;box-sizing: border-box;padding-bottom: 0.4em;background-color: white;}#sk-container-id-1 div.sk-label label {font-family: monospace;font-weight: bold;display: inline-block;line-height: 1.2em;}#sk-container-id-1 div.sk-label-container {text-align: center;}#sk-container-id-1 div.sk-container {/* jupyter's `normalize.less` sets `[hidden] { display: none; }` but bootstrap.min.css set `[hidden] { display: none !important; }` so we also need the `!important` here to be able to override the default hidden behavior on the sphinx rendered scikit-learn.org. See: https://github.com/scikit-learn/scikit-learn/issues/21755 */display: inline-block !important;position: relative;}#sk-container-id-1 div.sk-text-repr-fallback {display: none;}</style><div id=\"sk-container-id-1\" class=\"sk-top-container\"><div class=\"sk-text-repr-fallback\"><pre>KNeighborsClassifier()</pre><b>In a Jupyter environment, please rerun this cell to show the HTML representation or trust the notebook. <br />On GitHub, the HTML representation is unable to render, please try loading this page with nbviewer.org.</b></div><div class=\"sk-container\" hidden><div class=\"sk-item\"><div class=\"sk-estimator sk-toggleable\"><input class=\"sk-toggleable__control sk-hidden--visually\" id=\"sk-estimator-id-1\" type=\"checkbox\" checked><label for=\"sk-estimator-id-1\" class=\"sk-toggleable__label sk-toggleable__label-arrow\">KNeighborsClassifier</label><div class=\"sk-toggleable__content\"><pre>KNeighborsClassifier()</pre></div></div></div></div></div>"
      ],
      "text/plain": [
       "KNeighborsClassifier()"
      ]
     },
     "execution_count": 17,
     "metadata": {},
     "output_type": "execute_result"
    }
   ],
   "source": [
    "from sklearn.neighbors import KNeighborsClassifier\n",
    "\n",
    "knn_clf = KNeighborsClassifier(n_neighbors=5)\n",
    "knn_clf.fit(xtrain, ytrain)\n"
   ]
  },
  {
   "cell_type": "code",
   "execution_count": null,
   "id": "dda810d6",
   "metadata": {},
   "outputs": [],
   "source": []
  },
  {
   "cell_type": "code",
   "execution_count": 18,
   "id": "6d59d975",
   "metadata": {},
   "outputs": [
    {
     "name": "stdout",
     "output_type": "stream",
     "text": [
      "KNN : Accuracy Score :  0.8291000179534749\n",
      "KNN : Precision Score :  0.782929337446746\n",
      "KNN : Recall Score :  0.9108839816777193\n",
      "KNN : F1 Score :  0.8420736620897786\n"
     ]
    }
   ],
   "source": [
    "knn_preds = knn_clf.predict(xtest)\n",
    "print(\"KNN : Accuracy Score : \", accuracy_score(ytest, knn_preds))\n",
    "print(\"KNN : Precision Score : \", precision_score(ytest, knn_preds))\n",
    "print(\"KNN : Recall Score : \", recall_score(ytest, knn_preds))\n",
    "print(\"KNN : F1 Score : \", f1_score(ytest, knn_preds))\n"
   ]
  },
  {
   "cell_type": "code",
   "execution_count": 19,
   "id": "530fa001",
   "metadata": {},
   "outputs": [
    {
     "data": {
      "text/plain": [
       "array([[43685, 14776],\n",
       "       [ 5214, 53294]], dtype=int64)"
      ]
     },
     "execution_count": 19,
     "metadata": {},
     "output_type": "execute_result"
    }
   ],
   "source": [
    "confusion_matrix(ytest, knn_preds )"
   ]
  },
  {
   "cell_type": "code",
   "execution_count": 20,
   "id": "1ce2a144",
   "metadata": {},
   "outputs": [
    {
     "data": {
      "text/plain": [
       "0.8646518835158964"
      ]
     },
     "execution_count": 20,
     "metadata": {},
     "output_type": "execute_result"
    }
   ],
   "source": [
    "bag_clf = BaggingClassifier(DecisionTreeClassifier(), n_estimators = 50, \n",
    "                            max_samples = max_features, bootstrap = True, \n",
    "                            n_jobs = -1, oob_score = True)\n",
    "bag_clf.fit(xtrain, ytrain)\n",
    "bag_clf.oob_score_"
   ]
  },
  {
   "cell_type": "code",
   "execution_count": 21,
   "id": "e37ef962",
   "metadata": {},
   "outputs": [
    {
     "name": "stdout",
     "output_type": "stream",
     "text": [
      "Decision Tree : Accuracy Score :  0.8684095786062974\n",
      "Decision Tree : Precision Score :  0.8585112751945719\n",
      "Decision Tree : Recall Score :  0.8823408764613386\n",
      "Decision Tree : F1 Score :  0.8702629804450438\n"
     ]
    }
   ],
   "source": [
    "dt_pred = bag_clf.predict(xtest)\n",
    "print(\"Decision Tree : Accuracy Score : \", accuracy_score(ytest, dt_pred))\n",
    "print(\"Decision Tree : Precision Score : \", precision_score(ytest, dt_pred))\n",
    "print(\"Decision Tree : Recall Score : \", recall_score(ytest, dt_pred))\n",
    "print(\"Decision Tree : F1 Score : \", f1_score(ytest, dt_pred))"
   ]
  },
  {
   "cell_type": "code",
   "execution_count": 22,
   "id": "c20e06ff",
   "metadata": {},
   "outputs": [
    {
     "data": {
      "text/plain": [
       "array([[49953,  8508],\n",
       "       [ 6884, 51624]], dtype=int64)"
      ]
     },
     "execution_count": 22,
     "metadata": {},
     "output_type": "execute_result"
    }
   ],
   "source": [
    "confusion_matrix(ytest, dt_pred )"
   ]
  },
  {
   "cell_type": "code",
   "execution_count": 23,
   "id": "e68752be",
   "metadata": {},
   "outputs": [
    {
     "data": {
      "text/plain": [
       "0.8610782794549826"
      ]
     },
     "execution_count": 23,
     "metadata": {},
     "output_type": "execute_result"
    }
   ],
   "source": [
    "rnd_clf = RandomForestClassifier(n_estimators = 50, n_jobs = -1, oob_score= True)\n",
    "rnd_clf.fit(xtrain, ytrain)\n",
    "rnd_clf.oob_score_"
   ]
  },
  {
   "cell_type": "code",
   "execution_count": 24,
   "id": "99e5052e",
   "metadata": {},
   "outputs": [
    {
     "name": "stdout",
     "output_type": "stream",
     "text": [
      "Random Forest : Accuracy Score :  0.8626986637485146\n",
      "Random Forest : Precision Score :  0.8518684306508837\n",
      "Random Forest : Recall Score :  0.8782217816366993\n",
      "Random Forest : F1 Score :  0.8648443943244745\n"
     ]
    }
   ],
   "source": [
    "rnd_pred = rnd_clf.predict(xtest)\n",
    "print(\"Random Forest : Accuracy Score : \", accuracy_score(ytest, rnd_pred))\n",
    "print(\"Random Forest : Precision Score : \", precision_score(ytest, rnd_pred))\n",
    "print(\"Random Forest : Recall Score : \", recall_score(ytest, rnd_pred))\n",
    "print(\"Random Forest : F1 Score : \", f1_score(ytest, rnd_pred))"
   ]
  },
  {
   "cell_type": "code",
   "execution_count": 25,
   "id": "33d42dd2",
   "metadata": {},
   "outputs": [
    {
     "data": {
      "text/plain": [
       "array([[49526,  8935],\n",
       "       [ 7125, 51383]], dtype=int64)"
      ]
     },
     "execution_count": 25,
     "metadata": {},
     "output_type": "execute_result"
    }
   ],
   "source": [
    "confusion_matrix(ytest, rnd_pred  )"
   ]
  },
  {
   "cell_type": "code",
   "execution_count": 26,
   "id": "d1d8e0ac",
   "metadata": {},
   "outputs": [
    {
     "data": {
      "text/plain": [
       "0.6981458722949506"
      ]
     },
     "execution_count": 26,
     "metadata": {},
     "output_type": "execute_result"
    }
   ],
   "source": [
    "from sklearn.naive_bayes import GaussianNB\n",
    "nb_clf = GaussianNB()\n",
    "bag_clf = BaggingClassifier(nb_clf, n_estimators=50, max_samples=max_features,\n",
    "                            bootstrap=True, n_jobs=-1, oob_score=True)\n",
    "bag_clf.fit(xtrain, ytrain)\n",
    "bag_clf.oob_score_\n"
   ]
  },
  {
   "cell_type": "code",
   "execution_count": 27,
   "id": "4c6207d4",
   "metadata": {},
   "outputs": [
    {
     "name": "stdout",
     "output_type": "stream",
     "text": [
      "GaussianNB : Accuracy Score :  0.6980482008053416\n",
      "GaussianNB : Precision Score :  0.713318492079554\n",
      "GaussianNB : Recall Score :  0.6626615163738292\n",
      "GaussianNB : F1 Score :  0.6870575309451449\n"
     ]
    }
   ],
   "source": [
    "gnb_pred = bag_clf.predict(xtest)\n",
    "print(\"GaussianNB : Accuracy Score : \", accuracy_score(ytest, gnb_pred))\n",
    "print(\"GaussianNB : Precision Score : \", precision_score(ytest, gnb_pred))\n",
    "print(\"GaussianNB : Recall Score : \", recall_score(ytest, gnb_pred))\n",
    "print(\"GaussianNB : F1 Score : \", f1_score(ytest, gnb_pred))"
   ]
  },
  {
   "cell_type": "code",
   "execution_count": 28,
   "id": "d51b3d12",
   "metadata": {},
   "outputs": [
    {
     "data": {
      "text/plain": [
       "array([[42879, 15582],\n",
       "       [19737, 38771]], dtype=int64)"
      ]
     },
     "execution_count": 28,
     "metadata": {},
     "output_type": "execute_result"
    }
   ],
   "source": [
    "confusion_matrix(ytest, gnb_pred  )"
   ]
  },
  {
   "cell_type": "code",
   "execution_count": 29,
   "id": "ee79bef8",
   "metadata": {},
   "outputs": [
    {
     "data": {
      "text/plain": [
       "0.9891124766230297"
      ]
     },
     "execution_count": 29,
     "metadata": {},
     "output_type": "execute_result"
    }
   ],
   "source": [
    "from sklearn.ensemble import GradientBoostingClassifier\n",
    "GBCModel = GradientBoostingClassifier(n_estimators=150, max_depth=18, learning_rate=0.5, random_state=44)\n",
    "GBCModel.fit(xtrain, ytrain)\n",
    "GBCModel.score(xtrain, ytrain)"
   ]
  },
  {
   "cell_type": "code",
   "execution_count": 30,
   "id": "c3228b25",
   "metadata": {},
   "outputs": [
    {
     "name": "stdout",
     "output_type": "stream",
     "text": [
      "GradientBoosting : Accuracy Score :  0.9159691884174439\n",
      "GradientBoosting : Precision Score :  0.9140426979671685\n",
      "GradientBoosting : Recall Score :  0.9183701374171054\n",
      "GradientBoosting : F1 Score :  0.9162013078359323\n"
     ]
    }
   ],
   "source": [
    "gbc_preds = GBCModel.predict(xtest)\n",
    "print(\"GradientBoosting : Accuracy Score : \", accuracy_score(ytest, gbc_preds))\n",
    "print(\"GradientBoosting : Precision Score : \", precision_score(ytest, gbc_preds))\n",
    "print(\"GradientBoosting : Recall Score : \", recall_score(ytest, gbc_preds))\n",
    "print(\"GradientBoosting : F1 Score : \", f1_score(ytest, gbc_preds))"
   ]
  },
  {
   "cell_type": "code",
   "execution_count": 31,
   "id": "8fe40385",
   "metadata": {},
   "outputs": [
    {
     "data": {
      "text/plain": [
       "array([[53408,  5053],\n",
       "       [ 4776, 53732]], dtype=int64)"
      ]
     },
     "execution_count": 31,
     "metadata": {},
     "output_type": "execute_result"
    }
   ],
   "source": [
    "confusion_matrix(ytest, gbc_preds )"
   ]
  },
  {
   "cell_type": "code",
   "execution_count": 32,
   "id": "197bb2f8",
   "metadata": {},
   "outputs": [],
   "source": [
    "import numpy as np\n",
    "import pandas as pd\n",
    "import matplotlib.pyplot as plt\n",
    "import seaborn as sbn"
   ]
  },
  {
   "cell_type": "code",
   "execution_count": 25,
   "id": "131a99a9",
   "metadata": {},
   "outputs": [
    {
     "name": "stdout",
     "output_type": "stream",
     "text": [
      "Collecting python-docx\n",
      "  Downloading python-docx-0.8.11.tar.gz (5.6 MB)\n",
      "Requirement already satisfied: lxml>=2.3.2 in c:\\users\\user\\anaconda3\\lib\\site-packages (from python-docx) (4.6.3)\n",
      "Building wheels for collected packages: python-docx\n",
      "  Building wheel for python-docx (setup.py): started\n",
      "  Building wheel for python-docx (setup.py): finished with status 'done'\n",
      "  Created wheel for python-docx: filename=python_docx-0.8.11-py3-none-any.whl size=184508 sha256=9681d243decad148d6dc0bcae6f7e88ceb9cf633d59e76dc430f5244b8b8ab96\n",
      "  Stored in directory: c:\\users\\user\\appdata\\local\\pip\\cache\\wheels\\83\\8b\\7c\\09ae60c42c7ba4ed2dddaf2b8b9186cb105255856d6ed3dba5\n",
      "Successfully built python-docx\n",
      "Installing collected packages: python-docx\n",
      "Successfully installed python-docx-0.8.11\n"
     ]
    }
   ],
   "source": [
    "!pip install python-docx"
   ]
  },
  {
   "cell_type": "code",
   "execution_count": 33,
   "id": "9298fd23",
   "metadata": {},
   "outputs": [
    {
     "data": {
      "text/plain": [
       "<AxesSubplot:xlabel='Smoking', ylabel='count'>"
      ]
     },
     "execution_count": 33,
     "metadata": {},
     "output_type": "execute_result"
    },
    {
     "data": {
      "image/png": "[encoded data removed]",
      "text/plain": [
       "<Figure size 432x288 with 1 Axes>"
      ]
     },
     "metadata": {
      "needs_background": "light"
     },
     "output_type": "display_data"
    }
   ],
   "source": [
    "sbn.countplot(data['Smoking'])"
   ]
  },
  {
   "cell_type": "code",
   "execution_count": 34,
   "id": "3ec0c581",
   "metadata": {},
   "outputs": [
    {
     "data": {
      "text/plain": [
       "<AxesSubplot:xlabel='AlcoholDrinking', ylabel='count'>"
      ]
     },
     "execution_count": 34,
     "metadata": {},
     "output_type": "execute_result"
    },
    {
     "data": {
      "image/png": "[encoded data removed]",
      "text/plain": [
       "<Figure size 432x288 with 1 Axes>"
      ]
     },
     "metadata": {
      "needs_background": "light"
     },
     "output_type": "display_data"
    }
   ],
   "source": [
    "sbn.countplot(data['AlcoholDrinking'])"
   ]
  },
  {
   "cell_type": "code",
   "execution_count": 35,
   "id": "dd827f9e",
   "metadata": {},
   "outputs": [
    {
     "data": {
      "text/plain": [
       "<AxesSubplot:xlabel='Stroke', ylabel='count'>"
      ]
     },
     "execution_count": 35,
     "metadata": {},
     "output_type": "execute_result"
    },
    {
     "data": {
      "image/png": "[encoded data removed]",
      "text/plain": [
       "<Figure size 432x288 with 1 Axes>"
      ]
     },
     "metadata": {
      "needs_background": "light"
     },
     "output_type": "display_data"
    }
   ],
   "source": [
    "sbn.countplot(data['Stroke'])"
   ]
  },
  {
   "cell_type": "code",
   "execution_count": 36,
   "id": "537225a4",
   "metadata": {},
   "outputs": [
    {
     "data": {
      "text/plain": [
       "<AxesSubplot:xlabel='DiffWalking', ylabel='count'>"
      ]
     },
     "execution_count": 36,
     "metadata": {},
     "output_type": "execute_result"
    },
    {
     "data": {
      "image/png": "[encoded data removed]",
      "text/plain": [
       "<Figure size 432x288 with 1 Axes>"
      ]
     },
     "metadata": {
      "needs_background": "light"
     },
     "output_type": "display_data"
    }
   ],
   "source": [
    "sbn.countplot(data['DiffWalking'])"
   ]
  },
  {
   "cell_type": "code",
   "execution_count": 37,
   "id": "d8d4faea",
   "metadata": {},
   "outputs": [
    {
     "data": {
      "text/plain": [
       "<AxesSubplot:xlabel='Sex', ylabel='count'>"
      ]
     },
     "execution_count": 37,
     "metadata": {},
     "output_type": "execute_result"
    },
    {
     "data": {
      "image/png": "[encoded data removed]",
      "text/plain": [
       "<Figure size 432x288 with 1 Axes>"
      ]
     },
     "metadata": {
      "needs_background": "light"
     },
     "output_type": "display_data"
    }
   ],
   "source": [
    "sbn.countplot(data['Sex'])"
   ]
  },
  {
   "cell_type": "code",
   "execution_count": 38,
   "id": "99c3fa26",
   "metadata": {},
   "outputs": [
    {
     "data": {
      "text/plain": [
       "<AxesSubplot:xlabel='Diabetic', ylabel='count'>"
      ]
     },
     "execution_count": 38,
     "metadata": {},
     "output_type": "execute_result"
    },
    {
     "data": {
      "image/png": "[encoded data removed]",
      "text/plain": [
       "<Figure size 432x288 with 1 Axes>"
      ]
     },
     "metadata": {
      "needs_background": "light"
     },
     "output_type": "display_data"
    }
   ],
   "source": [
    "sbn.countplot(data['Diabetic'])"
   ]
  },
  {
   "cell_type": "code",
   "execution_count": 39,
   "id": "79f973c2",
   "metadata": {},
   "outputs": [
    {
     "data": {
      "text/plain": [
       "<AxesSubplot:xlabel='PhysicalActivity', ylabel='count'>"
      ]
     },
     "execution_count": 39,
     "metadata": {},
     "output_type": "execute_result"
    },
    {
     "data": {
      "image/png": "[encoded data removed]",
      "text/plain": [
       "<Figure size 432x288 with 1 Axes>"
      ]
     },
     "metadata": {
      "needs_background": "light"
     },
     "output_type": "display_data"
    }
   ],
   "source": [
    "sbn.countplot(data['PhysicalActivity'])"
   ]
  },
  {
   "cell_type": "code",
   "execution_count": 40,
   "id": "4b053caf",
   "metadata": {},
   "outputs": [
    {
     "data": {
      "text/html": [
       "<div>\n",
       "<style scoped>\n",
       "    .dataframe tbody tr th:only-of-type {\n",
       "        vertical-align: middle;\n",
       "    }\n",
       "\n",
       "    .dataframe tbody tr th {\n",
       "        vertical-align: top;\n",
       "    }\n",
       "\n",
       "    .dataframe thead th {\n",
       "        text-align: right;\n",
       "    }\n",
       "</style>\n",
       "<table border=\"1\" class=\"dataframe\">\n",
       "  <thead>\n",
       "    <tr style=\"text-align: right;\">\n",
       "      <th></th>\n",
       "      <th>BMI</th>\n",
       "      <th>Smoking</th>\n",
       "      <th>AlcoholDrinking</th>\n",
       "      <th>Stroke</th>\n",
       "      <th>PhysicalHealth</th>\n",
       "      <th>MentalHealth</th>\n",
       "      <th>DiffWalking</th>\n",
       "      <th>Sex</th>\n",
       "      <th>AgeCategory</th>\n",
       "      <th>Race</th>\n",
       "      <th>Diabetic</th>\n",
       "      <th>PhysicalActivity</th>\n",
       "      <th>GenHealth</th>\n",
       "      <th>SleepTime</th>\n",
       "      <th>Asthma</th>\n",
       "      <th>KidneyDisease</th>\n",
       "      <th>SkinCancer</th>\n",
       "    </tr>\n",
       "  </thead>\n",
       "  <tbody>\n",
       "    <tr>\n",
       "      <th>0</th>\n",
       "      <td>16.60</td>\n",
       "      <td>1</td>\n",
       "      <td>0</td>\n",
       "      <td>0</td>\n",
       "      <td>3</td>\n",
       "      <td>30</td>\n",
       "      <td>0</td>\n",
       "      <td>0</td>\n",
       "      <td>1</td>\n",
       "      <td>White</td>\n",
       "      <td>1</td>\n",
       "      <td>1</td>\n",
       "      <td>4</td>\n",
       "      <td>5</td>\n",
       "      <td>1</td>\n",
       "      <td>0</td>\n",
       "      <td>1</td>\n",
       "    </tr>\n",
       "    <tr>\n",
       "      <th>1</th>\n",
       "      <td>20.34</td>\n",
       "      <td>0</td>\n",
       "      <td>0</td>\n",
       "      <td>1</td>\n",
       "      <td>0</td>\n",
       "      <td>0</td>\n",
       "      <td>0</td>\n",
       "      <td>0</td>\n",
       "      <td>1</td>\n",
       "      <td>White</td>\n",
       "      <td>0</td>\n",
       "      <td>1</td>\n",
       "      <td>4</td>\n",
       "      <td>7</td>\n",
       "      <td>0</td>\n",
       "      <td>0</td>\n",
       "      <td>0</td>\n",
       "    </tr>\n",
       "    <tr>\n",
       "      <th>2</th>\n",
       "      <td>26.58</td>\n",
       "      <td>1</td>\n",
       "      <td>0</td>\n",
       "      <td>0</td>\n",
       "      <td>20</td>\n",
       "      <td>30</td>\n",
       "      <td>0</td>\n",
       "      <td>1</td>\n",
       "      <td>1</td>\n",
       "      <td>White</td>\n",
       "      <td>1</td>\n",
       "      <td>1</td>\n",
       "      <td>2</td>\n",
       "      <td>8</td>\n",
       "      <td>1</td>\n",
       "      <td>0</td>\n",
       "      <td>0</td>\n",
       "    </tr>\n",
       "    <tr>\n",
       "      <th>3</th>\n",
       "      <td>24.21</td>\n",
       "      <td>0</td>\n",
       "      <td>0</td>\n",
       "      <td>0</td>\n",
       "      <td>0</td>\n",
       "      <td>0</td>\n",
       "      <td>0</td>\n",
       "      <td>0</td>\n",
       "      <td>1</td>\n",
       "      <td>White</td>\n",
       "      <td>0</td>\n",
       "      <td>0</td>\n",
       "      <td>3</td>\n",
       "      <td>6</td>\n",
       "      <td>0</td>\n",
       "      <td>0</td>\n",
       "      <td>1</td>\n",
       "    </tr>\n",
       "    <tr>\n",
       "      <th>4</th>\n",
       "      <td>23.71</td>\n",
       "      <td>0</td>\n",
       "      <td>0</td>\n",
       "      <td>0</td>\n",
       "      <td>28</td>\n",
       "      <td>0</td>\n",
       "      <td>1</td>\n",
       "      <td>0</td>\n",
       "      <td>0</td>\n",
       "      <td>White</td>\n",
       "      <td>0</td>\n",
       "      <td>1</td>\n",
       "      <td>4</td>\n",
       "      <td>8</td>\n",
       "      <td>0</td>\n",
       "      <td>0</td>\n",
       "      <td>0</td>\n",
       "    </tr>\n",
       "    <tr>\n",
       "      <th>...</th>\n",
       "      <td>...</td>\n",
       "      <td>...</td>\n",
       "      <td>...</td>\n",
       "      <td>...</td>\n",
       "      <td>...</td>\n",
       "      <td>...</td>\n",
       "      <td>...</td>\n",
       "      <td>...</td>\n",
       "      <td>...</td>\n",
       "      <td>...</td>\n",
       "      <td>...</td>\n",
       "      <td>...</td>\n",
       "      <td>...</td>\n",
       "      <td>...</td>\n",
       "      <td>...</td>\n",
       "      <td>...</td>\n",
       "      <td>...</td>\n",
       "    </tr>\n",
       "    <tr>\n",
       "      <th>319790</th>\n",
       "      <td>27.41</td>\n",
       "      <td>1</td>\n",
       "      <td>0</td>\n",
       "      <td>0</td>\n",
       "      <td>7</td>\n",
       "      <td>0</td>\n",
       "      <td>1</td>\n",
       "      <td>1</td>\n",
       "      <td>1</td>\n",
       "      <td>Hispanic</td>\n",
       "      <td>1</td>\n",
       "      <td>0</td>\n",
       "      <td>2</td>\n",
       "      <td>6</td>\n",
       "      <td>1</td>\n",
       "      <td>0</td>\n",
       "      <td>0</td>\n",
       "    </tr>\n",
       "    <tr>\n",
       "      <th>319791</th>\n",
       "      <td>29.84</td>\n",
       "      <td>1</td>\n",
       "      <td>0</td>\n",
       "      <td>0</td>\n",
       "      <td>0</td>\n",
       "      <td>0</td>\n",
       "      <td>0</td>\n",
       "      <td>1</td>\n",
       "      <td>0</td>\n",
       "      <td>Hispanic</td>\n",
       "      <td>0</td>\n",
       "      <td>1</td>\n",
       "      <td>4</td>\n",
       "      <td>5</td>\n",
       "      <td>1</td>\n",
       "      <td>0</td>\n",
       "      <td>0</td>\n",
       "    </tr>\n",
       "    <tr>\n",
       "      <th>319792</th>\n",
       "      <td>24.24</td>\n",
       "      <td>0</td>\n",
       "      <td>0</td>\n",
       "      <td>0</td>\n",
       "      <td>0</td>\n",
       "      <td>0</td>\n",
       "      <td>0</td>\n",
       "      <td>0</td>\n",
       "      <td>1</td>\n",
       "      <td>Hispanic</td>\n",
       "      <td>0</td>\n",
       "      <td>1</td>\n",
       "      <td>3</td>\n",
       "      <td>6</td>\n",
       "      <td>0</td>\n",
       "      <td>0</td>\n",
       "      <td>0</td>\n",
       "    </tr>\n",
       "    <tr>\n",
       "      <th>319793</th>\n",
       "      <td>32.81</td>\n",
       "      <td>0</td>\n",
       "      <td>0</td>\n",
       "      <td>0</td>\n",
       "      <td>0</td>\n",
       "      <td>0</td>\n",
       "      <td>0</td>\n",
       "      <td>0</td>\n",
       "      <td>0</td>\n",
       "      <td>Hispanic</td>\n",
       "      <td>0</td>\n",
       "      <td>0</td>\n",
       "      <td>3</td>\n",
       "      <td>12</td>\n",
       "      <td>0</td>\n",
       "      <td>0</td>\n",
       "      <td>0</td>\n",
       "    </tr>\n",
       "    <tr>\n",
       "      <th>319794</th>\n",
       "      <td>46.56</td>\n",
       "      <td>0</td>\n",
       "      <td>0</td>\n",
       "      <td>0</td>\n",
       "      <td>0</td>\n",
       "      <td>0</td>\n",
       "      <td>0</td>\n",
       "      <td>0</td>\n",
       "      <td>1</td>\n",
       "      <td>Hispanic</td>\n",
       "      <td>0</td>\n",
       "      <td>1</td>\n",
       "      <td>3</td>\n",
       "      <td>8</td>\n",
       "      <td>0</td>\n",
       "      <td>0</td>\n",
       "      <td>0</td>\n",
       "    </tr>\n",
       "  </tbody>\n",
       "</table>\n",
       "<p>319795 rows × 17 columns</p>\n",
       "</div>"
      ],
      "text/plain": [
       "          BMI  Smoking  AlcoholDrinking  Stroke  PhysicalHealth  MentalHealth  \\\n",
       "0       16.60        1                0       0               3            30   \n",
       "1       20.34        0                0       1               0             0   \n",
       "2       26.58        1                0       0              20            30   \n",
       "3       24.21        0                0       0               0             0   \n",
       "4       23.71        0                0       0              28             0   \n",
       "...       ...      ...              ...     ...             ...           ...   \n",
       "319790  27.41        1                0       0               7             0   \n",
       "319791  29.84        1                0       0               0             0   \n",
       "319792  24.24        0                0       0               0             0   \n",
       "319793  32.81        0                0       0               0             0   \n",
       "319794  46.56        0                0       0               0             0   \n",
       "\n",
       "        DiffWalking  Sex  AgeCategory      Race  Diabetic  PhysicalActivity  \\\n",
       "0                 0    0            1     White         1                 1   \n",
       "1                 0    0            1     White         0                 1   \n",
       "2                 0    1            1     White         1                 1   \n",
       "3                 0    0            1     White         0                 0   \n",
       "4                 1    0            0     White         0                 1   \n",
       "...             ...  ...          ...       ...       ...               ...   \n",
       "319790            1    1            1  Hispanic         1                 0   \n",
       "319791            0    1            0  Hispanic         0                 1   \n",
       "319792            0    0            1  Hispanic         0                 1   \n",
       "319793            0    0            0  Hispanic         0                 0   \n",
       "319794            0    0            1  Hispanic         0                 1   \n",
       "\n",
       "        GenHealth  SleepTime  Asthma  KidneyDisease  SkinCancer  \n",
       "0               4          5       1              0           1  \n",
       "1               4          7       0              0           0  \n",
       "2               2          8       1              0           0  \n",
       "3               3          6       0              0           1  \n",
       "4               4          8       0              0           0  \n",
       "...           ...        ...     ...            ...         ...  \n",
       "319790          2          6       1              0           0  \n",
       "319791          4          5       1              0           0  \n",
       "319792          3          6       0              0           0  \n",
       "319793          3         12       0              0           0  \n",
       "319794          3          8       0              0           0  \n",
       "\n",
       "[319795 rows x 17 columns]"
      ]
     },
     "execution_count": 40,
     "metadata": {},
     "output_type": "execute_result"
    }
   ],
   "source": [
    "X= data.loc[:, data.columns != 'HeartDisease']\n",
    "y= data['HeartDisease']\n",
    "X"
   ]
  },
  {
   "cell_type": "code",
   "execution_count": 41,
   "id": "a690a44d",
   "metadata": {},
   "outputs": [
    {
     "data": {
      "image/png": "[encoded data removed]",
      "text/plain": [
       "<Figure size 432x288 with 20 Axes>"
      ]
     },
     "metadata": {
      "needs_background": "light"
     },
     "output_type": "display_data"
    }
   ],
   "source": [
    "data.hist()\n",
    "plt.show()"
   ]
  },
  {
   "cell_type": "code",
   "execution_count": 42,
   "id": "49c60baa",
   "metadata": {},
   "outputs": [
    {
     "data": {
      "image/png": "[encoded data removed]",
      "text/plain": [
       "<Figure size 432x288 with 17 Axes>"
      ]
     },
     "metadata": {
      "needs_background": "light"
     },
     "output_type": "display_data"
    }
   ],
   "source": [
    "data.plot(kind='density',subplots=True,sharex=False)\n",
    "plt.show()"
   ]
  },
  {
   "cell_type": "code",
   "execution_count": 43,
   "id": "72a89c9c",
   "metadata": {},
   "outputs": [
    {
     "data": {
      "text/plain": [
       "array([[<AxesSubplot:xlabel='HeartDisease', ylabel='HeartDisease'>,\n",
       "        <AxesSubplot:xlabel='BMI', ylabel='HeartDisease'>,\n",
       "        <AxesSubplot:xlabel='Smoking', ylabel='HeartDisease'>,\n",
       "        <AxesSubplot:xlabel='AlcoholDrinking', ylabel='HeartDisease'>,\n",
       "        <AxesSubplot:xlabel='Stroke', ylabel='HeartDisease'>,\n",
       "        <AxesSubplot:xlabel='PhysicalHealth', ylabel='HeartDisease'>,\n",
       "        <AxesSubplot:xlabel='MentalHealth', ylabel='HeartDisease'>,\n",
       "        <AxesSubplot:xlabel='DiffWalking', ylabel='HeartDisease'>,\n",
       "        <AxesSubplot:xlabel='Sex', ylabel='HeartDisease'>,\n",
       "        <AxesSubplot:xlabel='AgeCategory', ylabel='HeartDisease'>,\n",
       "        <AxesSubplot:xlabel='Diabetic', ylabel='HeartDisease'>,\n",
       "        <AxesSubplot:xlabel='PhysicalActivity', ylabel='HeartDisease'>,\n",
       "        <AxesSubplot:xlabel='GenHealth', ylabel='HeartDisease'>,\n",
       "        <AxesSubplot:xlabel='SleepTime', ylabel='HeartDisease'>,\n",
       "        <AxesSubplot:xlabel='Asthma', ylabel='HeartDisease'>,\n",
       "        <AxesSubplot:xlabel='KidneyDisease', ylabel='HeartDisease'>,\n",
       "        <AxesSubplot:xlabel='SkinCancer', ylabel='HeartDisease'>],\n",
       "       [<AxesSubplot:xlabel='HeartDisease', ylabel='BMI'>,\n",
       "        <AxesSubplot:xlabel='BMI', ylabel='BMI'>,\n",
       "        <AxesSubplot:xlabel='Smoking', ylabel='BMI'>,\n",
       "        <AxesSubplot:xlabel='AlcoholDrinking', ylabel='BMI'>,\n",
       "        <AxesSubplot:xlabel='Stroke', ylabel='BMI'>,\n",
       "        <AxesSubplot:xlabel='PhysicalHealth', ylabel='BMI'>,\n",
       "        <AxesSubplot:xlabel='MentalHealth', ylabel='BMI'>,\n",
       "        <AxesSubplot:xlabel='DiffWalking', ylabel='BMI'>,\n",
       "        <AxesSubplot:xlabel='Sex', ylabel='BMI'>,\n",
       "        <AxesSubplot:xlabel='AgeCategory', ylabel='BMI'>,\n",
       "        <AxesSubplot:xlabel='Diabetic', ylabel='BMI'>,\n",
       "        <AxesSubplot:xlabel='PhysicalActivity', ylabel='BMI'>,\n",
       "        <AxesSubplot:xlabel='GenHealth', ylabel='BMI'>,\n",
       "        <AxesSubplot:xlabel='SleepTime', ylabel='BMI'>,\n",
       "        <AxesSubplot:xlabel='Asthma', ylabel='BMI'>,\n",
       "        <AxesSubplot:xlabel='KidneyDisease', ylabel='BMI'>,\n",
       "        <AxesSubplot:xlabel='SkinCancer', ylabel='BMI'>],\n",
       "       [<AxesSubplot:xlabel='HeartDisease', ylabel='Smoking'>,\n",
       "        <AxesSubplot:xlabel='BMI', ylabel='Smoking'>,\n",
       "        <AxesSubplot:xlabel='Smoking', ylabel='Smoking'>,\n",
       "        <AxesSubplot:xlabel='AlcoholDrinking', ylabel='Smoking'>,\n",
       "        <AxesSubplot:xlabel='Stroke', ylabel='Smoking'>,\n",
       "        <AxesSubplot:xlabel='PhysicalHealth', ylabel='Smoking'>,\n",
       "        <AxesSubplot:xlabel='MentalHealth', ylabel='Smoking'>,\n",
       "        <AxesSubplot:xlabel='DiffWalking', ylabel='Smoking'>,\n",
       "        <AxesSubplot:xlabel='Sex', ylabel='Smoking'>,\n",
       "        <AxesSubplot:xlabel='AgeCategory', ylabel='Smoking'>,\n",
       "        <AxesSubplot:xlabel='Diabetic', ylabel='Smoking'>,\n",
       "        <AxesSubplot:xlabel='PhysicalActivity', ylabel='Smoking'>,\n",
       "        <AxesSubplot:xlabel='GenHealth', ylabel='Smoking'>,\n",
       "        <AxesSubplot:xlabel='SleepTime', ylabel='Smoking'>,\n",
       "        <AxesSubplot:xlabel='Asthma', ylabel='Smoking'>,\n",
       "        <AxesSubplot:xlabel='KidneyDisease', ylabel='Smoking'>,\n",
       "        <AxesSubplot:xlabel='SkinCancer', ylabel='Smoking'>],\n",
       "       [<AxesSubplot:xlabel='HeartDisease', ylabel='AlcoholDrinking'>,\n",
       "        <AxesSubplot:xlabel='BMI', ylabel='AlcoholDrinking'>,\n",
       "        <AxesSubplot:xlabel='Smoking', ylabel='AlcoholDrinking'>,\n",
       "        <AxesSubplot:xlabel='AlcoholDrinking', ylabel='AlcoholDrinking'>,\n",
       "        <AxesSubplot:xlabel='Stroke', ylabel='AlcoholDrinking'>,\n",
       "        <AxesSubplot:xlabel='PhysicalHealth', ylabel='AlcoholDrinking'>,\n",
       "        <AxesSubplot:xlabel='MentalHealth', ylabel='AlcoholDrinking'>,\n",
       "        <AxesSubplot:xlabel='DiffWalking', ylabel='AlcoholDrinking'>,\n",
       "        <AxesSubplot:xlabel='Sex', ylabel='AlcoholDrinking'>,\n",
       "        <AxesSubplot:xlabel='AgeCategory', ylabel='AlcoholDrinking'>,\n",
       "        <AxesSubplot:xlabel='Diabetic', ylabel='AlcoholDrinking'>,\n",
       "        <AxesSubplot:xlabel='PhysicalActivity', ylabel='AlcoholDrinking'>,\n",
       "        <AxesSubplot:xlabel='GenHealth', ylabel='AlcoholDrinking'>,\n",
       "        <AxesSubplot:xlabel='SleepTime', ylabel='AlcoholDrinking'>,\n",
       "        <AxesSubplot:xlabel='Asthma', ylabel='AlcoholDrinking'>,\n",
       "        <AxesSubplot:xlabel='KidneyDisease', ylabel='AlcoholDrinking'>,\n",
       "        <AxesSubplot:xlabel='SkinCancer', ylabel='AlcoholDrinking'>],\n",
       "       [<AxesSubplot:xlabel='HeartDisease', ylabel='Stroke'>,\n",
       "        <AxesSubplot:xlabel='BMI', ylabel='Stroke'>,\n",
       "        <AxesSubplot:xlabel='Smoking', ylabel='Stroke'>,\n",
       "        <AxesSubplot:xlabel='AlcoholDrinking', ylabel='Stroke'>,\n",
       "        <AxesSubplot:xlabel='Stroke', ylabel='Stroke'>,\n",
       "        <AxesSubplot:xlabel='PhysicalHealth', ylabel='Stroke'>,\n",
       "        <AxesSubplot:xlabel='MentalHealth', ylabel='Stroke'>,\n",
       "        <AxesSubplot:xlabel='DiffWalking', ylabel='Stroke'>,\n",
       "        <AxesSubplot:xlabel='Sex', ylabel='Stroke'>,\n",
       "        <AxesSubplot:xlabel='AgeCategory', ylabel='Stroke'>,\n",
       "        <AxesSubplot:xlabel='Diabetic', ylabel='Stroke'>,\n",
       "        <AxesSubplot:xlabel='PhysicalActivity', ylabel='Stroke'>,\n",
       "        <AxesSubplot:xlabel='GenHealth', ylabel='Stroke'>,\n",
       "        <AxesSubplot:xlabel='SleepTime', ylabel='Stroke'>,\n",
       "        <AxesSubplot:xlabel='Asthma', ylabel='Stroke'>,\n",
       "        <AxesSubplot:xlabel='KidneyDisease', ylabel='Stroke'>,\n",
       "        <AxesSubplot:xlabel='SkinCancer', ylabel='Stroke'>],\n",
       "       [<AxesSubplot:xlabel='HeartDisease', ylabel='PhysicalHealth'>,\n",
       "        <AxesSubplot:xlabel='BMI', ylabel='PhysicalHealth'>,\n",
       "        <AxesSubplot:xlabel='Smoking', ylabel='PhysicalHealth'>,\n",
       "        <AxesSubplot:xlabel='AlcoholDrinking', ylabel='PhysicalHealth'>,\n",
       "        <AxesSubplot:xlabel='Stroke', ylabel='PhysicalHealth'>,\n",
       "        <AxesSubplot:xlabel='PhysicalHealth', ylabel='PhysicalHealth'>,\n",
       "        <AxesSubplot:xlabel='MentalHealth', ylabel='PhysicalHealth'>,\n",
       "        <AxesSubplot:xlabel='DiffWalking', ylabel='PhysicalHealth'>,\n",
       "        <AxesSubplot:xlabel='Sex', ylabel='PhysicalHealth'>,\n",
       "        <AxesSubplot:xlabel='AgeCategory', ylabel='PhysicalHealth'>,\n",
       "        <AxesSubplot:xlabel='Diabetic', ylabel='PhysicalHealth'>,\n",
       "        <AxesSubplot:xlabel='PhysicalActivity', ylabel='PhysicalHealth'>,\n",
       "        <AxesSubplot:xlabel='GenHealth', ylabel='PhysicalHealth'>,\n",
       "        <AxesSubplot:xlabel='SleepTime', ylabel='PhysicalHealth'>,\n",
       "        <AxesSubplot:xlabel='Asthma', ylabel='PhysicalHealth'>,\n",
       "        <AxesSubplot:xlabel='KidneyDisease', ylabel='PhysicalHealth'>,\n",
       "        <AxesSubplot:xlabel='SkinCancer', ylabel='PhysicalHealth'>],\n",
       "       [<AxesSubplot:xlabel='HeartDisease', ylabel='MentalHealth'>,\n",
       "        <AxesSubplot:xlabel='BMI', ylabel='MentalHealth'>,\n",
       "        <AxesSubplot:xlabel='Smoking', ylabel='MentalHealth'>,\n",
       "        <AxesSubplot:xlabel='AlcoholDrinking', ylabel='MentalHealth'>,\n",
       "        <AxesSubplot:xlabel='Stroke', ylabel='MentalHealth'>,\n",
       "        <AxesSubplot:xlabel='PhysicalHealth', ylabel='MentalHealth'>,\n",
       "        <AxesSubplot:xlabel='MentalHealth', ylabel='MentalHealth'>,\n",
       "        <AxesSubplot:xlabel='DiffWalking', ylabel='MentalHealth'>,\n",
       "        <AxesSubplot:xlabel='Sex', ylabel='MentalHealth'>,\n",
       "        <AxesSubplot:xlabel='AgeCategory', ylabel='MentalHealth'>,\n",
       "        <AxesSubplot:xlabel='Diabetic', ylabel='MentalHealth'>,\n",
       "        <AxesSubplot:xlabel='PhysicalActivity', ylabel='MentalHealth'>,\n",
       "        <AxesSubplot:xlabel='GenHealth', ylabel='MentalHealth'>,\n",
       "        <AxesSubplot:xlabel='SleepTime', ylabel='MentalHealth'>,\n",
       "        <AxesSubplot:xlabel='Asthma', ylabel='MentalHealth'>,\n",
       "        <AxesSubplot:xlabel='KidneyDisease', ylabel='MentalHealth'>,\n",
       "        <AxesSubplot:xlabel='SkinCancer', ylabel='MentalHealth'>],\n",
       "       [<AxesSubplot:xlabel='HeartDisease', ylabel='DiffWalking'>,\n",
       "        <AxesSubplot:xlabel='BMI', ylabel='DiffWalking'>,\n",
       "        <AxesSubplot:xlabel='Smoking', ylabel='DiffWalking'>,\n",
       "        <AxesSubplot:xlabel='AlcoholDrinking', ylabel='DiffWalking'>,\n",
       "        <AxesSubplot:xlabel='Stroke', ylabel='DiffWalking'>,\n",
       "        <AxesSubplot:xlabel='PhysicalHealth', ylabel='DiffWalking'>,\n",
       "        <AxesSubplot:xlabel='MentalHealth', ylabel='DiffWalking'>,\n",
       "        <AxesSubplot:xlabel='DiffWalking', ylabel='DiffWalking'>,\n",
       "        <AxesSubplot:xlabel='Sex', ylabel='DiffWalking'>,\n",
       "        <AxesSubplot:xlabel='AgeCategory', ylabel='DiffWalking'>,\n",
       "        <AxesSubplot:xlabel='Diabetic', ylabel='DiffWalking'>,\n",
       "        <AxesSubplot:xlabel='PhysicalActivity', ylabel='DiffWalking'>,\n",
       "        <AxesSubplot:xlabel='GenHealth', ylabel='DiffWalking'>,\n",
       "        <AxesSubplot:xlabel='SleepTime', ylabel='DiffWalking'>,\n",
       "        <AxesSubplot:xlabel='Asthma', ylabel='DiffWalking'>,\n",
       "        <AxesSubplot:xlabel='KidneyDisease', ylabel='DiffWalking'>,\n",
       "        <AxesSubplot:xlabel='SkinCancer', ylabel='DiffWalking'>],\n",
       "       [<AxesSubplot:xlabel='HeartDisease', ylabel='Sex'>,\n",
       "        <AxesSubplot:xlabel='BMI', ylabel='Sex'>,\n",
       "        <AxesSubplot:xlabel='Smoking', ylabel='Sex'>,\n",
       "        <AxesSubplot:xlabel='AlcoholDrinking', ylabel='Sex'>,\n",
       "        <AxesSubplot:xlabel='Stroke', ylabel='Sex'>,\n",
       "        <AxesSubplot:xlabel='PhysicalHealth', ylabel='Sex'>,\n",
       "        <AxesSubplot:xlabel='MentalHealth', ylabel='Sex'>,\n",
       "        <AxesSubplot:xlabel='DiffWalking', ylabel='Sex'>,\n",
       "        <AxesSubplot:xlabel='Sex', ylabel='Sex'>,\n",
       "        <AxesSubplot:xlabel='AgeCategory', ylabel='Sex'>,\n",
       "        <AxesSubplot:xlabel='Diabetic', ylabel='Sex'>,\n",
       "        <AxesSubplot:xlabel='PhysicalActivity', ylabel='Sex'>,\n",
       "        <AxesSubplot:xlabel='GenHealth', ylabel='Sex'>,\n",
       "        <AxesSubplot:xlabel='SleepTime', ylabel='Sex'>,\n",
       "        <AxesSubplot:xlabel='Asthma', ylabel='Sex'>,\n",
       "        <AxesSubplot:xlabel='KidneyDisease', ylabel='Sex'>,\n",
       "        <AxesSubplot:xlabel='SkinCancer', ylabel='Sex'>],\n",
       "       [<AxesSubplot:xlabel='HeartDisease', ylabel='AgeCategory'>,\n",
       "        <AxesSubplot:xlabel='BMI', ylabel='AgeCategory'>,\n",
       "        <AxesSubplot:xlabel='Smoking', ylabel='AgeCategory'>,\n",
       "        <AxesSubplot:xlabel='AlcoholDrinking', ylabel='AgeCategory'>,\n",
       "        <AxesSubplot:xlabel='Stroke', ylabel='AgeCategory'>,\n",
       "        <AxesSubplot:xlabel='PhysicalHealth', ylabel='AgeCategory'>,\n",
       "        <AxesSubplot:xlabel='MentalHealth', ylabel='AgeCategory'>,\n",
       "        <AxesSubplot:xlabel='DiffWalking', ylabel='AgeCategory'>,\n",
       "        <AxesSubplot:xlabel='Sex', ylabel='AgeCategory'>,\n",
       "        <AxesSubplot:xlabel='AgeCategory', ylabel='AgeCategory'>,\n",
       "        <AxesSubplot:xlabel='Diabetic', ylabel='AgeCategory'>,\n",
       "        <AxesSubplot:xlabel='PhysicalActivity', ylabel='AgeCategory'>,\n",
       "        <AxesSubplot:xlabel='GenHealth', ylabel='AgeCategory'>,\n",
       "        <AxesSubplot:xlabel='SleepTime', ylabel='AgeCategory'>,\n",
       "        <AxesSubplot:xlabel='Asthma', ylabel='AgeCategory'>,\n",
       "        <AxesSubplot:xlabel='KidneyDisease', ylabel='AgeCategory'>,\n",
       "        <AxesSubplot:xlabel='SkinCancer', ylabel='AgeCategory'>],\n",
       "       [<AxesSubplot:xlabel='HeartDisease', ylabel='Diabetic'>,\n",
       "        <AxesSubplot:xlabel='BMI', ylabel='Diabetic'>,\n",
       "        <AxesSubplot:xlabel='Smoking', ylabel='Diabetic'>,\n",
       "        <AxesSubplot:xlabel='AlcoholDrinking', ylabel='Diabetic'>,\n",
       "        <AxesSubplot:xlabel='Stroke', ylabel='Diabetic'>,\n",
       "        <AxesSubplot:xlabel='PhysicalHealth', ylabel='Diabetic'>,\n",
       "        <AxesSubplot:xlabel='MentalHealth', ylabel='Diabetic'>,\n",
       "        <AxesSubplot:xlabel='DiffWalking', ylabel='Diabetic'>,\n",
       "        <AxesSubplot:xlabel='Sex', ylabel='Diabetic'>,\n",
       "        <AxesSubplot:xlabel='AgeCategory', ylabel='Diabetic'>,\n",
       "        <AxesSubplot:xlabel='Diabetic', ylabel='Diabetic'>,\n",
       "        <AxesSubplot:xlabel='PhysicalActivity', ylabel='Diabetic'>,\n",
       "        <AxesSubplot:xlabel='GenHealth', ylabel='Diabetic'>,\n",
       "        <AxesSubplot:xlabel='SleepTime', ylabel='Diabetic'>,\n",
       "        <AxesSubplot:xlabel='Asthma', ylabel='Diabetic'>,\n",
       "        <AxesSubplot:xlabel='KidneyDisease', ylabel='Diabetic'>,\n",
       "        <AxesSubplot:xlabel='SkinCancer', ylabel='Diabetic'>],\n",
       "       [<AxesSubplot:xlabel='HeartDisease', ylabel='PhysicalActivity'>,\n",
       "        <AxesSubplot:xlabel='BMI', ylabel='PhysicalActivity'>,\n",
       "        <AxesSubplot:xlabel='Smoking', ylabel='PhysicalActivity'>,\n",
       "        <AxesSubplot:xlabel='AlcoholDrinking', ylabel='PhysicalActivity'>,\n",
       "        <AxesSubplot:xlabel='Stroke', ylabel='PhysicalActivity'>,\n",
       "        <AxesSubplot:xlabel='PhysicalHealth', ylabel='PhysicalActivity'>,\n",
       "        <AxesSubplot:xlabel='MentalHealth', ylabel='PhysicalActivity'>,\n",
       "        <AxesSubplot:xlabel='DiffWalking', ylabel='PhysicalActivity'>,\n",
       "        <AxesSubplot:xlabel='Sex', ylabel='PhysicalActivity'>,\n",
       "        <AxesSubplot:xlabel='AgeCategory', ylabel='PhysicalActivity'>,\n",
       "        <AxesSubplot:xlabel='Diabetic', ylabel='PhysicalActivity'>,\n",
       "        <AxesSubplot:xlabel='PhysicalActivity', ylabel='PhysicalActivity'>,\n",
       "        <AxesSubplot:xlabel='GenHealth', ylabel='PhysicalActivity'>,\n",
       "        <AxesSubplot:xlabel='SleepTime', ylabel='PhysicalActivity'>,\n",
       "        <AxesSubplot:xlabel='Asthma', ylabel='PhysicalActivity'>,\n",
       "        <AxesSubplot:xlabel='KidneyDisease', ylabel='PhysicalActivity'>,\n",
       "        <AxesSubplot:xlabel='SkinCancer', ylabel='PhysicalActivity'>],\n",
       "       [<AxesSubplot:xlabel='HeartDisease', ylabel='GenHealth'>,\n",
       "        <AxesSubplot:xlabel='BMI', ylabel='GenHealth'>,\n",
       "        <AxesSubplot:xlabel='Smoking', ylabel='GenHealth'>,\n",
       "        <AxesSubplot:xlabel='AlcoholDrinking', ylabel='GenHealth'>,\n",
       "        <AxesSubplot:xlabel='Stroke', ylabel='GenHealth'>,\n",
       "        <AxesSubplot:xlabel='PhysicalHealth', ylabel='GenHealth'>,\n",
       "        <AxesSubplot:xlabel='MentalHealth', ylabel='GenHealth'>,\n",
       "        <AxesSubplot:xlabel='DiffWalking', ylabel='GenHealth'>,\n",
       "        <AxesSubplot:xlabel='Sex', ylabel='GenHealth'>,\n",
       "        <AxesSubplot:xlabel='AgeCategory', ylabel='GenHealth'>,\n",
       "        <AxesSubplot:xlabel='Diabetic', ylabel='GenHealth'>,\n",
       "        <AxesSubplot:xlabel='PhysicalActivity', ylabel='GenHealth'>,\n",
       "        <AxesSubplot:xlabel='GenHealth', ylabel='GenHealth'>,\n",
       "        <AxesSubplot:xlabel='SleepTime', ylabel='GenHealth'>,\n",
       "        <AxesSubplot:xlabel='Asthma', ylabel='GenHealth'>,\n",
       "        <AxesSubplot:xlabel='KidneyDisease', ylabel='GenHealth'>,\n",
       "        <AxesSubplot:xlabel='SkinCancer', ylabel='GenHealth'>],\n",
       "       [<AxesSubplot:xlabel='HeartDisease', ylabel='SleepTime'>,\n",
       "        <AxesSubplot:xlabel='BMI', ylabel='SleepTime'>,\n",
       "        <AxesSubplot:xlabel='Smoking', ylabel='SleepTime'>,\n",
       "        <AxesSubplot:xlabel='AlcoholDrinking', ylabel='SleepTime'>,\n",
       "        <AxesSubplot:xlabel='Stroke', ylabel='SleepTime'>,\n",
       "        <AxesSubplot:xlabel='PhysicalHealth', ylabel='SleepTime'>,\n",
       "        <AxesSubplot:xlabel='MentalHealth', ylabel='SleepTime'>,\n",
       "        <AxesSubplot:xlabel='DiffWalking', ylabel='SleepTime'>,\n",
       "        <AxesSubplot:xlabel='Sex', ylabel='SleepTime'>,\n",
       "        <AxesSubplot:xlabel='AgeCategory', ylabel='SleepTime'>,\n",
       "        <AxesSubplot:xlabel='Diabetic', ylabel='SleepTime'>,\n",
       "        <AxesSubplot:xlabel='PhysicalActivity', ylabel='SleepTime'>,\n",
       "        <AxesSubplot:xlabel='GenHealth', ylabel='SleepTime'>,\n",
       "        <AxesSubplot:xlabel='SleepTime', ylabel='SleepTime'>,\n",
       "        <AxesSubplot:xlabel='Asthma', ylabel='SleepTime'>,\n",
       "        <AxesSubplot:xlabel='KidneyDisease', ylabel='SleepTime'>,\n",
       "        <AxesSubplot:xlabel='SkinCancer', ylabel='SleepTime'>],\n",
       "       [<AxesSubplot:xlabel='HeartDisease', ylabel='Asthma'>,\n",
       "        <AxesSubplot:xlabel='BMI', ylabel='Asthma'>,\n",
       "        <AxesSubplot:xlabel='Smoking', ylabel='Asthma'>,\n",
       "        <AxesSubplot:xlabel='AlcoholDrinking', ylabel='Asthma'>,\n",
       "        <AxesSubplot:xlabel='Stroke', ylabel='Asthma'>,\n",
       "        <AxesSubplot:xlabel='PhysicalHealth', ylabel='Asthma'>,\n",
       "        <AxesSubplot:xlabel='MentalHealth', ylabel='Asthma'>,\n",
       "        <AxesSubplot:xlabel='DiffWalking', ylabel='Asthma'>,\n",
       "        <AxesSubplot:xlabel='Sex', ylabel='Asthma'>,\n",
       "        <AxesSubplot:xlabel='AgeCategory', ylabel='Asthma'>,\n",
       "        <AxesSubplot:xlabel='Diabetic', ylabel='Asthma'>,\n",
       "        <AxesSubplot:xlabel='PhysicalActivity', ylabel='Asthma'>,\n",
       "        <AxesSubplot:xlabel='GenHealth', ylabel='Asthma'>,\n",
       "        <AxesSubplot:xlabel='SleepTime', ylabel='Asthma'>,\n",
       "        <AxesSubplot:xlabel='Asthma', ylabel='Asthma'>,\n",
       "        <AxesSubplot:xlabel='KidneyDisease', ylabel='Asthma'>,\n",
       "        <AxesSubplot:xlabel='SkinCancer', ylabel='Asthma'>],\n",
       "       [<AxesSubplot:xlabel='HeartDisease', ylabel='KidneyDisease'>,\n",
       "        <AxesSubplot:xlabel='BMI', ylabel='KidneyDisease'>,\n",
       "        <AxesSubplot:xlabel='Smoking', ylabel='KidneyDisease'>,\n",
       "        <AxesSubplot:xlabel='AlcoholDrinking', ylabel='KidneyDisease'>,\n",
       "        <AxesSubplot:xlabel='Stroke', ylabel='KidneyDisease'>,\n",
       "        <AxesSubplot:xlabel='PhysicalHealth', ylabel='KidneyDisease'>,\n",
       "        <AxesSubplot:xlabel='MentalHealth', ylabel='KidneyDisease'>,\n",
       "        <AxesSubplot:xlabel='DiffWalking', ylabel='KidneyDisease'>,\n",
       "        <AxesSubplot:xlabel='Sex', ylabel='KidneyDisease'>,\n",
       "        <AxesSubplot:xlabel='AgeCategory', ylabel='KidneyDisease'>,\n",
       "        <AxesSubplot:xlabel='Diabetic', ylabel='KidneyDisease'>,\n",
       "        <AxesSubplot:xlabel='PhysicalActivity', ylabel='KidneyDisease'>,\n",
       "        <AxesSubplot:xlabel='GenHealth', ylabel='KidneyDisease'>,\n",
       "        <AxesSubplot:xlabel='SleepTime', ylabel='KidneyDisease'>,\n",
       "        <AxesSubplot:xlabel='Asthma', ylabel='KidneyDisease'>,\n",
       "        <AxesSubplot:xlabel='KidneyDisease', ylabel='KidneyDisease'>,\n",
       "        <AxesSubplot:xlabel='SkinCancer', ylabel='KidneyDisease'>],\n",
       "       [<AxesSubplot:xlabel='HeartDisease', ylabel='SkinCancer'>,\n",
       "        <AxesSubplot:xlabel='BMI', ylabel='SkinCancer'>,\n",
       "        <AxesSubplot:xlabel='Smoking', ylabel='SkinCancer'>,\n",
       "        <AxesSubplot:xlabel='AlcoholDrinking', ylabel='SkinCancer'>,\n",
       "        <AxesSubplot:xlabel='Stroke', ylabel='SkinCancer'>,\n",
       "        <AxesSubplot:xlabel='PhysicalHealth', ylabel='SkinCancer'>,\n",
       "        <AxesSubplot:xlabel='MentalHealth', ylabel='SkinCancer'>,\n",
       "        <AxesSubplot:xlabel='DiffWalking', ylabel='SkinCancer'>,\n",
       "        <AxesSubplot:xlabel='Sex', ylabel='SkinCancer'>,\n",
       "        <AxesSubplot:xlabel='AgeCategory', ylabel='SkinCancer'>,\n",
       "        <AxesSubplot:xlabel='Diabetic', ylabel='SkinCancer'>,\n",
       "        <AxesSubplot:xlabel='PhysicalActivity', ylabel='SkinCancer'>,\n",
       "        <AxesSubplot:xlabel='GenHealth', ylabel='SkinCancer'>,\n",
       "        <AxesSubplot:xlabel='SleepTime', ylabel='SkinCancer'>,\n",
       "        <AxesSubplot:xlabel='Asthma', ylabel='SkinCancer'>,\n",
       "        <AxesSubplot:xlabel='KidneyDisease', ylabel='SkinCancer'>,\n",
       "        <AxesSubplot:xlabel='SkinCancer', ylabel='SkinCancer'>]],\n",
       "      dtype=object)"
      ]
     },
     "execution_count": 43,
     "metadata": {},
     "output_type": "execute_result"
    },
    {
     "data": {
      "image/png": "[encoded data removed]",
      "text/plain": [
       "<Figure size 432x288 with 289 Axes>"
      ]
     },
     "metadata": {
      "needs_background": "light"
     },
     "output_type": "display_data"
    }
   ],
   "source": [
    "pd.plotting.scatter_matrix(data)"
   ]
  },
  {
   "cell_type": "code",
   "execution_count": 44,
   "id": "7527109d",
   "metadata": {},
   "outputs": [
    {
     "data": {
      "text/plain": [
       "<AxesSubplot:xlabel='HeartDisease', ylabel='count'>"
      ]
     },
     "execution_count": 44,
     "metadata": {},
     "output_type": "execute_result"
    },
    {
     "data": {
      "image/png": "[encoded data removed]",
      "text/plain": [
       "<Figure size 432x288 with 1 Axes>"
      ]
     },
     "metadata": {
      "needs_background": "light"
     },
     "output_type": "display_data"
    }
   ],
   "source": [
    "sbn.countplot(data['HeartDisease'])"
   ]
  },
  {
   "cell_type": "code",
   "execution_count": 45,
   "id": "5cf0993c",
   "metadata": {},
   "outputs": [
    {
     "data": {
      "text/plain": [
       "<AxesSubplot:xlabel='Smoking', ylabel='count'>"
      ]
     },
     "execution_count": 45,
     "metadata": {},
     "output_type": "execute_result"
    },
    {
     "data": {
      "image/png": "[encoded data removed]",
      "text/plain": [
       "<Figure size 432x288 with 1 Axes>"
      ]
     },
     "metadata": {
      "needs_background": "light"
     },
     "output_type": "display_data"
    }
   ],
   "source": [
    "sbn.countplot(x=data['Smoking'],hue=data['HeartDisease'])"
   ]
  },
  {
   "cell_type": "code",
   "execution_count": 46,
   "id": "37e5783b",
   "metadata": {},
   "outputs": [
    {
     "data": {
      "text/plain": [
       "<AxesSubplot:xlabel='AlcoholDrinking', ylabel='count'>"
      ]
     },
     "execution_count": 46,
     "metadata": {},
     "output_type": "execute_result"
    },
    {
     "data": {
      "image/png": "[encoded data removed]",
      "text/plain": [
       "<Figure size 432x288 with 1 Axes>"
      ]
     },
     "metadata": {
      "needs_background": "light"
     },
     "output_type": "display_data"
    }
   ],
   "source": [
    "sbn.countplot(x=data['AlcoholDrinking'],hue=data['HeartDisease'])"
   ]
  },
  {
   "cell_type": "code",
   "execution_count": 47,
   "id": "77fd5456",
   "metadata": {},
   "outputs": [
    {
     "data": {
      "text/plain": [
       "<AxesSubplot:xlabel='Stroke', ylabel='count'>"
      ]
     },
     "execution_count": 47,
     "metadata": {},
     "output_type": "execute_result"
    },
    {
     "data": {
      "image/png": "[encoded data removed]",
      "text/plain": [
       "<Figure size 432x288 with 1 Axes>"
      ]
     },
     "metadata": {
      "needs_background": "light"
     },
     "output_type": "display_data"
    }
   ],
   "source": [
    "sbn.countplot(x=data['Stroke'],hue=data['HeartDisease'])"
   ]
  },
  {
   "cell_type": "code",
   "execution_count": 48,
   "id": "fa0ab9b5",
   "metadata": {},
   "outputs": [
    {
     "data": {
      "text/plain": [
       "<AxesSubplot:xlabel='DiffWalking', ylabel='count'>"
      ]
     },
     "execution_count": 48,
     "metadata": {},
     "output_type": "execute_result"
    },
    {
     "data": {
      "image/png": "[encoded data removed]",
      "text/plain": [
       "<Figure size 432x288 with 1 Axes>"
      ]
     },
     "metadata": {
      "needs_background": "light"
     },
     "output_type": "display_data"
    }
   ],
   "source": [
    "sbn.countplot(x=data['DiffWalking'],hue=data['HeartDisease'])"
   ]
  },
  {
   "cell_type": "code",
   "execution_count": 49,
   "id": "02d4261c",
   "metadata": {},
   "outputs": [
    {
     "data": {
      "text/plain": [
       "<AxesSubplot:xlabel='Sex', ylabel='count'>"
      ]
     },
     "execution_count": 49,
     "metadata": {},
     "output_type": "execute_result"
    },
    {
     "data": {
      "image/png": "[encoded data removed]",
      "text/plain": [
       "<Figure size 432x288 with 1 Axes>"
      ]
     },
     "metadata": {
      "needs_background": "light"
     },
     "output_type": "display_data"
    }
   ],
   "source": [
    "sbn.countplot(x=data['Sex'],hue=data['HeartDisease'])"
   ]
  },
  {
   "cell_type": "code",
   "execution_count": 50,
   "id": "4ba71b07",
   "metadata": {},
   "outputs": [
    {
     "data": {
      "text/plain": [
       "<AxesSubplot:xlabel='Diabetic', ylabel='count'>"
      ]
     },
     "execution_count": 50,
     "metadata": {},
     "output_type": "execute_result"
    },
    {
     "data": {
      "image/png": "[encoded data removed]",
      "text/plain": [
       "<Figure size 432x288 with 1 Axes>"
      ]
     },
     "metadata": {
      "needs_background": "light"
     },
     "output_type": "display_data"
    }
   ],
   "source": [
    "sbn.countplot(x=data['Diabetic'],hue=data['HeartDisease'])"
   ]
  },
  {
   "cell_type": "code",
   "execution_count": 51,
   "id": "5aa3fb0f",
   "metadata": {},
   "outputs": [
    {
     "data": {
      "text/plain": [
       "<AxesSubplot:xlabel='PhysicalActivity', ylabel='count'>"
      ]
     },
     "execution_count": 51,
     "metadata": {},
     "output_type": "execute_result"
    },
    {
     "data": {
      "image/png": "[encoded data removed]",
      "text/plain": [
       "<Figure size 432x288 with 1 Axes>"
      ]
     },
     "metadata": {
      "needs_background": "light"
     },
     "output_type": "display_data"
    }
   ],
   "source": [
    "sbn.countplot(x=data['PhysicalActivity'],hue=data['HeartDisease'])"
   ]
  },
  {
   "cell_type": "code",
   "execution_count": 52,
   "id": "2263d77f",
   "metadata": {},
   "outputs": [
    {
     "data": {
      "text/plain": [
       "<AxesSubplot:xlabel='GenHealth', ylabel='count'>"
      ]
     },
     "execution_count": 52,
     "metadata": {},
     "output_type": "execute_result"
    },
    {
     "data": {
      "image/png": "[encoded data removed]",
      "text/plain": [
       "<Figure size 432x288 with 1 Axes>"
      ]
     },
     "metadata": {
      "needs_background": "light"
     },
     "output_type": "display_data"
    }
   ],
   "source": [
    "sbn.countplot(x=data['GenHealth'],hue=data['HeartDisease'])"
   ]
  },
  {
   "cell_type": "code",
   "execution_count": 53,
   "id": "6505c824",
   "metadata": {},
   "outputs": [
    {
     "data": {
      "text/plain": [
       "<AxesSubplot:xlabel='Asthma', ylabel='count'>"
      ]
     },
     "execution_count": 53,
     "metadata": {},
     "output_type": "execute_result"
    },
    {
     "data": {
      "image/png": "[encoded data removed]",
      "text/plain": [
       "<Figure size 432x288 with 1 Axes>"
      ]
     },
     "metadata": {
      "needs_background": "light"
     },
     "output_type": "display_data"
    }
   ],
   "source": [
    "sbn.countplot(x=data['Asthma'],hue=data['HeartDisease'])"
   ]
  },
  {
   "cell_type": "code",
   "execution_count": 54,
   "id": "3cd7e0c6",
   "metadata": {},
   "outputs": [
    {
     "data": {
      "text/plain": [
       "<AxesSubplot:xlabel='KidneyDisease', ylabel='count'>"
      ]
     },
     "execution_count": 54,
     "metadata": {},
     "output_type": "execute_result"
    },
    {
     "data": {
      "image/png": "[encoded data removed]",
      "text/plain": [
       "<Figure size 432x288 with 1 Axes>"
      ]
     },
     "metadata": {
      "needs_background": "light"
     },
     "output_type": "display_data"
    }
   ],
   "source": [
    "sbn.countplot(x=data['KidneyDisease'],hue=data['HeartDisease'])"
   ]
  },
  {
   "cell_type": "code",
   "execution_count": 55,
   "id": "a9715ff3",
   "metadata": {},
   "outputs": [
    {
     "data": {
      "text/plain": [
       "<AxesSubplot:xlabel='SkinCancer', ylabel='count'>"
      ]
     },
     "execution_count": 55,
     "metadata": {},
     "output_type": "execute_result"
    },
    {
     "data": {
      "image/png": "[encoded data removed]",
      "text/plain": [
       "<Figure size 432x288 with 1 Axes>"
      ]
     },
     "metadata": {
      "needs_background": "light"
     },
     "output_type": "display_data"
    }
   ],
   "source": [
    "sbn.countplot(x=data['SkinCancer'],hue=data['HeartDisease'])"
   ]
  },
  {
   "cell_type": "code",
   "execution_count": 56,
   "id": "7fc0c5af",
   "metadata": {},
   "outputs": [],
   "source": [
    "td = pd.read_csv('input/heart_2020_cleaned.csv')"
   ]
  },
  {
   "cell_type": "code",
   "execution_count": 57,
   "id": "4cf6f1a3",
   "metadata": {},
   "outputs": [],
   "source": [
    "td[\"SleepTime\"] = np.where(td[\"SleepTime\"]>=6, 0, 1)"
   ]
  },
  {
   "cell_type": "code",
   "execution_count": 58,
   "id": "478f2ddb",
   "metadata": {},
   "outputs": [
    {
     "data": {
      "text/plain": [
       "<AxesSubplot:xlabel='SleepTime', ylabel='count'>"
      ]
     },
     "execution_count": 58,
     "metadata": {},
     "output_type": "execute_result"
    },
    {
     "data": {
      "image/png": "[encoded data removed]",
      "text/plain": [
       "<Figure size 432x288 with 1 Axes>"
      ]
     },
     "metadata": {
      "needs_background": "light"
     },
     "output_type": "display_data"
    }
   ],
   "source": [
    "sbn.countplot(x=td['SleepTime'],hue=data['HeartDisease'])"
   ]
  },
  {
   "cell_type": "code",
   "execution_count": 59,
   "id": "cdb9d58a",
   "metadata": {},
   "outputs": [
    {
     "data": {
      "text/plain": [
       "<AxesSubplot:xlabel='AgeCategory', ylabel='count'>"
      ]
     },
     "execution_count": 59,
     "metadata": {},
     "output_type": "execute_result"
    },
    {
     "data": {
      "image/png": "[encoded data removed]",
      "text/plain": [
       "<Figure size 432x288 with 1 Axes>"
      ]
     },
     "metadata": {
      "needs_background": "light"
     },
     "output_type": "display_data"
    }
   ],
   "source": [
    "sbn.countplot(x=data['AgeCategory'],hue=data['HeartDisease'])"
   ]
  },
  {
   "cell_type": "code",
   "execution_count": 60,
   "id": "5d5665a7",
   "metadata": {},
   "outputs": [
    {
     "data": {
      "text/plain": [
       "<AxesSubplot:xlabel='GenHealth', ylabel='count'>"
      ]
     },
     "execution_count": 60,
     "metadata": {},
     "output_type": "execute_result"
    },
    {
     "data": {
      "image/png": "[encoded data removed]",
      "text/plain": [
       "<Figure size 432x288 with 1 Axes>"
      ]
     },
     "metadata": {
      "needs_background": "light"
     },
     "output_type": "display_data"
    }
   ],
   "source": [
    "sbn.countplot(x=data['GenHealth'],hue=data['HeartDisease'])"
   ]
  },
  {
   "cell_type": "code",
   "execution_count": 61,
   "id": "e87ad5fb",
   "metadata": {},
   "outputs": [],
   "source": [
    "td.BMI.replace(('0.00-18.5','18.5–24.9','25.00–29.9','30.00 or older'),\n",
    "                         (1,2,3,4), inplace = True)"
   ]
  },
  {
   "cell_type": "code",
   "execution_count": 62,
   "id": "07686dbe",
   "metadata": {},
   "outputs": [
    {
     "data": {
      "text/plain": [
       "0         16.60\n",
       "1         20.34\n",
       "2         26.58\n",
       "3         24.21\n",
       "4         23.71\n",
       "          ...  \n",
       "319790    27.41\n",
       "319791    29.84\n",
       "319792    24.24\n",
       "319793    32.81\n",
       "319794    46.56\n",
       "Name: BMI, Length: 319795, dtype: float64"
      ]
     },
     "execution_count": 62,
     "metadata": {},
     "output_type": "execute_result"
    }
   ],
   "source": [
    "td.BMI"
   ]
  },
  {
   "cell_type": "code",
   "execution_count": 63,
   "id": "c1ede955",
   "metadata": {},
   "outputs": [
    {
     "data": {
      "text/plain": [
       "<AxesSubplot:xlabel='BMI', ylabel='count'>"
      ]
     },
     "execution_count": 63,
     "metadata": {},
     "output_type": "execute_result"
    },
    {
     "data": {
      "image/png": "[encoded data removed]",
      "text/plain": [
       "<Figure size 432x288 with 1 Axes>"
      ]
     },
     "metadata": {
      "needs_background": "light"
     },
     "output_type": "display_data"
    }
   ],
   "source": [
    "sbn.countplot(x=td['BMI'],hue=td['HeartDisease'])"
   ]
  },
  {
   "cell_type": "code",
   "execution_count": 64,
   "id": "701775e6",
   "metadata": {},
   "outputs": [
    {
     "data": {
      "text/plain": [
       "<AxesSubplot:xlabel='SleepTime', ylabel='count'>"
      ]
     },
     "execution_count": 64,
     "metadata": {},
     "output_type": "execute_result"
    },
    {
     "data": {
      "image/png": "[encoded data removed]",
      "text/plain": [
       "<Figure size 432x288 with 1 Axes>"
      ]
     },
     "metadata": {
      "needs_background": "light"
     },
     "output_type": "display_data"
    }
   ],
   "source": [
    "sbn.countplot(x=td['SleepTime'],hue=td['HeartDisease'])"
   ]
  },
  {
   "cell_type": "code",
   "execution_count": 65,
   "id": "a9137fb6",
   "metadata": {},
   "outputs": [
    {
     "data": {
      "image/png": "[encoded data removed]",
      "text/plain": [
       "<Figure size 432x288 with 1 Axes>"
      ]
     },
     "metadata": {},
     "output_type": "display_data"
    }
   ],
   "source": [
    "import matplotlib.pyplot as plt\n",
    "\n",
    "# Assuming 'HeartDisease' is a column in your DataFrame called 'data'\n",
    "heart_disease_counts = data['HeartDisease'].value_counts()\n",
    "\n",
    "# Create a pie chart\n",
    "labels = ['Healthy', 'Heart Disease']\n",
    "plt.pie(heart_disease_counts, labels=labels, autopct='%1.1f%%')\n",
    "plt.title('Distribution of Heart Disease')\n",
    "plt.show()\n"
   ]
  },
  {
   "cell_type": "code",
   "execution_count": 66,
   "id": "0011a6c4",
   "metadata": {},
   "outputs": [
    {
     "data": {
      "image/png": "[encoded data removed]",
      "text/plain": [
       "<Figure size 432x288 with 1 Axes>"
      ]
     },
     "metadata": {},
     "output_type": "display_data"
    }
   ],
   "source": [
    "import matplotlib.pyplot as plt\n",
    "\n",
    "# Assuming 'HeartDisease' is a column in your DataFrame called 'data'\n",
    "heart_disease_counts = data['HeartDisease'].value_counts()\n",
    "\n",
    "# Create a pie chart\n",
    "labels = ['Healthy', 'Heart Disease']\n",
    "colors = ['#55a868', '#c44e52']  # Example colors for the slices\n",
    "\n",
    "plt.pie(heart_disease_counts, labels=labels, colors=colors, autopct='%1.1f%%')\n",
    "plt.title('Distribution of Heart Disease')\n",
    "\n",
    "# Add legend in the top right corner\n",
    "plt.legend(labels, loc='right')\n",
    "\n",
    "plt.show()\n"
   ]
  },
  {
   "cell_type": "code",
   "execution_count": 67,
   "id": "0e17a48c",
   "metadata": {},
   "outputs": [
    {
     "data": {
      "image/png": "[encoded data removed]",
      "text/plain": [
       "<Figure size 432x288 with 1 Axes>"
      ]
     },
     "metadata": {
      "needs_background": "light"
     },
     "output_type": "display_data"
    }
   ],
   "source": [
    "import matplotlib.pyplot as plt\n",
    "\n",
    "classifiers = ['LR', 'DT', 'NB', 'RF', 'KNN', 'GB']\n",
    "fn_numbers = [14809, 6897, 19736, 7158, 5214, 4776]\n",
    "\n",
    "plt.bar(classifiers, fn_numbers)\n",
    "plt.xlabel('Classifiers')\n",
    "plt.ylabel('False Negative Count')\n",
    "plt.title('False Negative Count for Different Classifiers')\n",
    "plt.show()\n"
   ]
  },
  {
   "cell_type": "code",
   "execution_count": null,
   "id": "bbb3b91f",
   "metadata": {},
   "outputs": [],
   "source": []
  }
 ],
 "metadata": {
  "kernelspec": {
   "display_name": "Python 3 (ipykernel)",
   "language": "python",
   "name": "python3"
  },
  "language_info": {
   "codemirror_mode": {
    "name": "ipython",
    "version": 3
   },
   "file_extension": ".py",
   "mimetype": "text/x-python",
   "name": "python",
   "nbconvert_exporter": "python",
   "pygments_lexer": "ipython3",
   "version": "3.9.7"
  }
 },
 "nbformat": 4,
 "nbformat_minor": 5
}
